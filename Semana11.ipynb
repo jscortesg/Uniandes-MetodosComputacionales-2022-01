{
  "nbformat": 4,
  "nbformat_minor": 0,
  "metadata": {
    "colab": {
      "name": "Semana11.ipynb",
      "provenance": [],
      "collapsed_sections": [],
      "authorship_tag": "ABX9TyN2KeN6BykyAJOLYPZKfb14",
      "include_colab_link": true
    },
    "kernelspec": {
      "name": "python3",
      "display_name": "Python 3"
    },
    "language_info": {
      "name": "python"
    }
  },
  "cells": [
    {
      "cell_type": "markdown",
      "metadata": {
        "id": "view-in-github",
        "colab_type": "text"
      },
      "source": [
        "<a href=\"https://colab.research.google.com/github/jscortesg/Uniandes-MetodosComputacionales-2022-01/blob/main/Semana11.ipynb\" target=\"_parent\"><img src=\"https://colab.research.google.com/assets/colab-badge.svg\" alt=\"Open In Colab\"/></a>"
      ]
    },
    {
      "cell_type": "markdown",
      "source": [
        "#Método Monte Carlo de Integración\n",
        "\n",
        "Teorema del valor medio para una función $f(x)$:\n",
        "\n",
        "\\begin{align}\n",
        "&I = \\int_{a}^{b}dx\\,f(x) = (b-a)\\left<f\\right> \\\\\n",
        "&\\left<f\\right>: \\text{valor medio de la función}\n",
        "\\end{align}\n",
        "\n",
        "Por ejemplo, sea \n",
        "\n",
        "\\begin{align}\n",
        "&f(x) = \\sin(x) \\\\\n",
        "&a = 0,\\,b = \\pi\\\\\n",
        "&\\left<f\\right> = \\frac{1}{\\pi - 0}\\int_{0}^{\\pi}dx\\,\\sin(x) = \\left. -\\frac{\\cos(x)}{\\pi}\\right|_{0}^{\\pi} = \\frac{2}{\\pi}.  \\\\\n",
        "&\\text{Entonces, }I = (\\pi-0)*\\frac{2}{\\pi} = 2.\n",
        "\\end{align}\n"
      ],
      "metadata": {
        "id": "ebErPJZKdGGQ"
      }
    },
    {
      "cell_type": "code",
      "source": [
        "import numpy as np \n",
        "import matplotlib.pyplot as plt\n",
        "\n",
        "x = np.arange(0,np.pi,0.1)\n",
        "\n",
        "plt.figure()\n",
        "plt.plot(x, np.sin(x), color = 'black')\n",
        "plt.axhline(2/np.pi, color = 'green', linestyle = '--')"
      ],
      "metadata": {
        "colab": {
          "base_uri": "https://localhost:8080/",
          "height": 282
        },
        "id": "VqKdkiK2gImX",
        "outputId": "73bee7dd-424e-45f2-cd70-b000e4708ad6"
      },
      "execution_count": null,
      "outputs": [
        {
          "output_type": "execute_result",
          "data": {
            "text/plain": [
              "<matplotlib.lines.Line2D at 0x7ff2e158fbd0>"
            ]
          },
          "metadata": {},
          "execution_count": 1
        },
        {
          "output_type": "display_data",
          "data": {
            "text/plain": [
              "<Figure size 432x288 with 1 Axes>"
            ],
            "image/png": "[encoded data removed]"
          },
          "metadata": {
            "needs_background": "light"
          }
        }
      ]
    },
    {
      "cell_type": "markdown",
      "source": [
        "**Monte Carlo:**\n",
        "\n",
        "tomar $N$ números *aleatorios* $x_{i}\\in [a,b]$ y reemplazar en\n",
        "\n",
        "\\begin{equation}\n",
        "\\left<f\\right> \\approx \\frac{1}{N}\\sum_{i=1}^{N}f(x_{i}).\n",
        "\\end{equation}\n",
        "\n",
        "Entonces,\n",
        "\n",
        "\\begin{equation}\n",
        "I \\approx \\frac{b-a}{N}\\sum_{i=1}^{N}f(x_{i}).\n",
        "\\end{equation}\n",
        "\n",
        "#Error en el método de integración Monte Carlo\n",
        "\n",
        "Como es sabido,\n",
        "\n",
        "\\begin{equation}\n",
        "I \\approx \\frac{b-a}{N}\\sum_{i=1}^{N}f(x_{i}) = (b-a)\\left<f\\right>,\\,x_{i}\\in [a,b]\n",
        "\\end{equation}\n",
        "\n",
        "Error asociado:\n",
        "\n",
        "\\begin{align}\n",
        "&\\Delta\\left<f\\right> = \\sqrt{\\frac{1}{N}\\left(\\left<f^{2}\\right> - \\left<f\\right>^{2}\\right)} \\\\\n",
        "&\\Delta\\left<f\\right> \\propto \\frac{1}{\\sqrt{N}}\n",
        "\\end{align}\n",
        "\n",
        "\n",
        "Volviendo a $f(x) = \\sin(x)$,"
      ],
      "metadata": {
        "id": "cN4Dp-9Bf-e2"
      }
    },
    {
      "cell_type": "code",
      "source": [
        "#Regla de Simpson\n",
        "\n",
        "a = 0\n",
        "b = np.pi\n",
        "n = 11\n",
        "h = (b - a) / (n - 1)\n",
        "x = np.linspace(a, b, n)\n",
        "f = np.sin(x)\n",
        "\n",
        "I_simp = (h/3) * (f[0] + 2*sum(f[:n-2:2]) + 4*sum(f[1:n-1:2]) + f[n-1])\n",
        "err_simp = 2 - I_simp\n",
        "\n",
        "print(I_simp)\n",
        "print(err_simp)"
      ],
      "metadata": {
        "colab": {
          "base_uri": "https://localhost:8080/"
        },
        "id": "M0LUkBuvf_D7",
        "outputId": "94ecc564-0e7e-4903-f370-10db1d41d726"
      },
      "execution_count": null,
      "outputs": [
        {
          "output_type": "stream",
          "name": "stdout",
          "text": [
            "2.0001095173150043\n",
            "-0.00010951731500430384\n"
          ]
        }
      ]
    },
    {
      "cell_type": "code",
      "source": [
        "#Monte Carlo\n",
        "\n",
        "from scipy import random\n",
        "\n",
        "xi = random.uniform(0, np.pi, 1000)\n",
        "\n",
        "Intmc = ((b-a)/float(len(xi)))*sum(np.sin(xi))\n",
        "\n",
        "Intmc"
      ],
      "metadata": {
        "colab": {
          "base_uri": "https://localhost:8080/"
        },
        "id": "zdiD9bHChsjK",
        "outputId": "85a22dc0-ffd7-4773-eb56-b8cf29879c16"
      },
      "execution_count": null,
      "outputs": [
        {
          "output_type": "execute_result",
          "data": {
            "text/plain": [
              "1.9656735980479292"
            ]
          },
          "metadata": {},
          "execution_count": 5
        }
      ]
    },
    {
      "cell_type": "code",
      "source": [
        "type(xi)"
      ],
      "metadata": {
        "colab": {
          "base_uri": "https://localhost:8080/"
        },
        "id": "3wJvDCKR7fGE",
        "outputId": "842d6f59-4f87-46fb-d4ab-a76f9988210e"
      },
      "execution_count": null,
      "outputs": [
        {
          "output_type": "execute_result",
          "data": {
            "text/plain": [
              "numpy.ndarray"
            ]
          },
          "metadata": {},
          "execution_count": 6
        }
      ]
    },
    {
      "cell_type": "markdown",
      "source": [
        "Histograma del método Monte Carlo para la integral $\\int_{0}^{\\pi}\\sin(x)\\,dx$ (tomado de https://www.geeksforgeeks.org/monte-carlo-integration-in-python/)"
      ],
      "metadata": {
        "id": "o4_y3l7zrNHN"
      }
    },
    {
      "cell_type": "code",
      "source": [
        "# importing the modules\n",
        "#from scipy import random\n",
        "import numpy as np\n",
        "import matplotlib.pyplot as plt\n",
        "\n",
        "# limits of integration\n",
        "a = 0\n",
        "b = np.pi # gets the value of pi\n",
        "N = 1000\n",
        "\n",
        "# function to calculate the sin of a particular\n",
        "# value of x\n",
        "def f(x):\n",
        "\treturn np.sin(x)\n",
        "\n",
        "# list to store all the values for plotting\n",
        "plt_vals = []\n",
        "\n",
        "# we iterate through all the values to generate\n",
        "# multiple results and show whose intensity is\n",
        "# the most.\n",
        "for i in range(N):\n",
        "\t\n",
        "\t#array of zeros of length N\n",
        "\tar = np.zeros(N)\n",
        "\n",
        "\t# iterating over each Value of ar and filling it\n",
        "\t# with a random value between the limits a and b\n",
        "\tfor i in range (len(ar)):\n",
        "\t\tar[i] = random.uniform(a,b)\n",
        "\n",
        "\t# variable to store sum of the functions of different\n",
        "\t# values of x\n",
        "\tintegral = 0.0\n",
        "\n",
        "\t# iterates and sums up values of different functions\n",
        "\t# of x\n",
        "\tfor i in ar:\n",
        "\t\tintegral += f(i)\n",
        "\n",
        "\t# we get the answer by the formula derived adobe\n",
        "\tans = (b-a)/float(N)*integral\n",
        "\n",
        "\t# appends the solution to a list for plotting the graph\n",
        "\tplt_vals.append(ans)\n",
        "\n",
        "# details of the plot to be generated\n",
        "# sets the title of the plot\n",
        "plt.title(\"Distributions of areas calculated\")\n",
        "\n",
        "# 3 parameters (array on which histogram needs\n",
        "plt.hist(plt_vals, bins=40, ec=\"black\")\n",
        "\n",
        "# to be made, bins, separators colour between the\n",
        "# beams)\n",
        "# sets the label of the x-axis of the plot\n",
        "plt.xlabel(\"Areas\")\n",
        "plt.show() # shows the plot\n"
      ],
      "metadata": {
        "colab": {
          "base_uri": "https://localhost:8080/",
          "height": 295
        },
        "id": "0kMINsUIq5JP",
        "outputId": "6d8eaf8f-bafe-4127-f68f-72c38a28d60c"
      },
      "execution_count": null,
      "outputs": [
        {
          "output_type": "display_data",
          "data": {
            "text/plain": [
              "<Figure size 432x288 with 1 Axes>"
            ],
            "image/png": "[encoded data removed]"
          },
          "metadata": {
            "needs_background": "light"
          }
        }
      ]
    },
    {
      "cell_type": "code",
      "source": [
        "max(plt_vals), min(plt_vals)"
      ],
      "metadata": {
        "colab": {
          "base_uri": "https://localhost:8080/"
        },
        "id": "OEgMNjpGy5hs",
        "outputId": "e8e936ef-2c41-4a80-9d7a-c1eb54a2caf7"
      },
      "execution_count": null,
      "outputs": [
        {
          "output_type": "execute_result",
          "data": {
            "text/plain": [
              "(2.098656915643877, 1.8933290019841473)"
            ]
          },
          "metadata": {},
          "execution_count": 9
        }
      ]
    },
    {
      "cell_type": "code",
      "source": [
        "#Valor promedio del método MC\n",
        "\n",
        "ar_imc = np.array(plt_vals)\n",
        "\n",
        "np.mean(ar_imc), np.std(ar_imc)"
      ],
      "metadata": {
        "colab": {
          "base_uri": "https://localhost:8080/"
        },
        "id": "WiIOeehUzsZW",
        "outputId": "4eaf899f-ecee-4fd0-dac6-6fd68f74bf0e"
      },
      "execution_count": null,
      "outputs": [
        {
          "output_type": "execute_result",
          "data": {
            "text/plain": [
              "(1.9993482914298761, 0.02978218318124322)"
            ]
          },
          "metadata": {},
          "execution_count": 10
        }
      ]
    },
    {
      "cell_type": "markdown",
      "source": [
        "Integrales de funciones muy oscilantes:\n",
        "\n",
        "\\begin{equation}\n",
        "F_{1} = \\int_{0}^{2\\pi}\\sin(100x)\\,dx \n",
        "\\end{equation}"
      ],
      "metadata": {
        "id": "gRdoFs_3lIne"
      }
    },
    {
      "cell_type": "code",
      "source": [
        "a = 0\n",
        "b = 2*np.pi\n",
        "\n",
        "nran = np.arange(2,21)\n",
        "\n",
        "listaF1s = []\n",
        "\n",
        "for n in nran:\n",
        "  h = (b - a) / (n - 1)\n",
        "  x = np.linspace(a, b, n)\n",
        "  f1 = np.sin(100*x)\n",
        "  listaF1s.append((h/3) * (f1[0] + 2*sum(f1[:n-2:2]) + 4*sum(f1[1:n-1:2]) + f1[n-1]))\n"
      ],
      "metadata": {
        "id": "h-5_dhp7m2H8"
      },
      "execution_count": null,
      "outputs": []
    },
    {
      "cell_type": "code",
      "source": [
        "listaF1s"
      ],
      "metadata": {
        "colab": {
          "base_uri": "https://localhost:8080/"
        },
        "id": "cUIPfCHJnQ4Y",
        "outputId": "682d5bdb-9f7a-48e6-fe86-ac8a19511d5b"
      },
      "execution_count": null,
      "outputs": [
        {
          "output_type": "execute_result",
          "data": {
            "text/plain": [
              "[8.228403866766253e-15,\n",
              " 1.234260580014938e-14,\n",
              " 2.418399152312318,\n",
              " -4.7183683232531273e-14,\n",
              " -8.701365858552278e-14,\n",
              " 1.1902883131061888e-13,\n",
              " 0.9585795541023713,\n",
              " 1.1493837613197815e-13,\n",
              " 0.3838666576974784,\n",
              " -8.289945665213964e-14,\n",
              " 0.26178189538259833,\n",
              " 5.951441565530944e-14,\n",
              " -0.5346801553443415,\n",
              " 4.972492102265584e-15,\n",
              " -0.48367983046242524,\n",
              " 2.6042751451797783e-14,\n",
              " -0.21372604108072704,\n",
              " 5.856870704330008e-15,\n",
              " 0.3394527857077101]"
            ]
          },
          "metadata": {},
          "execution_count": 12
        }
      ]
    },
    {
      "cell_type": "code",
      "source": [
        "listaF1mc = []\n",
        "\n",
        "nran1 = np.arange(10,1000)\n",
        "\n",
        "for n in nran1:\n",
        "  hmc = (b - a)/n\n",
        "  x = random.uniform(0, np.pi, n)\n",
        "  f1 = np.sin(100*x)\n",
        "\n",
        "  if abs(hmc*sum(f1)) < 1*pow(10,-3):\n",
        "    listaF1mc.append((hmc*sum(f1),n))\n",
        "  else:\n",
        "    pass"
      ],
      "metadata": {
        "id": "UBkUZChto1Gz"
      },
      "execution_count": null,
      "outputs": []
    },
    {
      "cell_type": "code",
      "source": [
        "listaF1mc"
      ],
      "metadata": {
        "colab": {
          "base_uri": "https://localhost:8080/"
        },
        "id": "JiDb7EIkpkTg",
        "outputId": "e47196d7-4cfa-47e6-cddd-522df852dd0b"
      },
      "execution_count": null,
      "outputs": [
        {
          "output_type": "execute_result",
          "data": {
            "text/plain": [
              "[(-0.00028035481502081393, 506),\n",
              " (0.0009877866118507875, 707),\n",
              " (-0.0009057322183787373, 883)]"
            ]
          },
          "metadata": {},
          "execution_count": 16
        }
      ]
    },
    {
      "cell_type": "markdown",
      "source": [
        "Ejemplo de función \"peaked\":\n",
        "\n",
        "\\begin{equation}\n",
        "g(x,\\sigma) = \\frac{1}{\\sqrt{2\\pi\\sigma}}e^{-\\frac{x^{2}}{2\\sigma}}\n",
        "\\end{equation}\n",
        "\n",
        "$\\sigma=0.01$:\n",
        "\n",
        "\\begin{equation}\n",
        "\\int_{-5}^{5}\\frac{1}{\\sqrt{2\\pi*0.01}}e^{-\\frac{x^{2}}{2*0.01}} = 1\n",
        "\\end{equation}"
      ],
      "metadata": {
        "id": "JrdD_WDL9qMA"
      }
    },
    {
      "cell_type": "code",
      "source": [
        "xg = np.arange(-5,5,0.1)\n",
        "\n",
        "def g(x,sig):\n",
        "  return (1/np.sqrt(2*np.pi*sig))*np.exp(-(pow(x,2))/(2*sig))\n",
        "\n",
        "plt.figure()\n",
        "plt.plot(xg, g(xg,0.01), color = 'black')"
      ],
      "metadata": {
        "colab": {
          "base_uri": "https://localhost:8080/",
          "height": 282
        },
        "id": "BiDTVZQfpnlH",
        "outputId": "d612f23f-8ec5-40c8-e920-53f6f36ea67e"
      },
      "execution_count": null,
      "outputs": [
        {
          "output_type": "execute_result",
          "data": {
            "text/plain": [
              "[<matplotlib.lines.Line2D at 0x7ff2dc3cb390>]"
            ]
          },
          "metadata": {},
          "execution_count": 17
        },
        {
          "output_type": "display_data",
          "data": {
            "text/plain": [
              "<Figure size 432x288 with 1 Axes>"
            ],
            "image/png": "[encoded data removed]"
          },
          "metadata": {
            "needs_background": "light"
          }
        }
      ]
    },
    {
      "cell_type": "code",
      "source": [
        "ag = -5\n",
        "bg = 5\n",
        "\n",
        "nrang = np.arange(2,41)\n",
        "\n",
        "listags = []\n",
        "\n",
        "for n in nrang:\n",
        "  h = (bg - ag) / (n - 1)\n",
        "  x = np.linspace(ag, bg, n)\n",
        "  f1 = g(x,0.01)\n",
        "  listags.append((h/3) * (f1[0] + 2*sum(f1[:n-2:2]) + 4*sum(f1[1:n-1:2]) + f1[n-1]))"
      ],
      "metadata": {
        "id": "ijzPiGQr-mfa"
      },
      "execution_count": null,
      "outputs": []
    },
    {
      "cell_type": "code",
      "source": [
        "plt.figure()\n",
        "plt.scatter(nrang, listags, color='green')\n",
        "plt.axhline(1, color = 'black')"
      ],
      "metadata": {
        "colab": {
          "base_uri": "https://localhost:8080/",
          "height": 282
        },
        "id": "1RgIl1fR-_uF",
        "outputId": "d64170ad-d873-4f20-d8d3-8fdcf81df29c"
      },
      "execution_count": null,
      "outputs": [
        {
          "output_type": "execute_result",
          "data": {
            "text/plain": [
              "<matplotlib.lines.Line2D at 0x7ff2dc3f6450>"
            ]
          },
          "metadata": {},
          "execution_count": 19
        },
        {
          "output_type": "display_data",
          "data": {
            "text/plain": [
              "<Figure size 432x288 with 1 Axes>"
            ],
            "image/png": "[encoded data removed]"
          },
          "metadata": {
            "needs_background": "light"
          }
        }
      ]
    },
    {
      "cell_type": "code",
      "source": [
        "listagmc = []\n",
        "\n",
        "nrang2 = np.arange(10,1000)\n",
        "\n",
        "for n in nrang2:\n",
        "  hmc = (bg - ag)/n\n",
        "  x = random.uniform(ag, bg, n)\n",
        "  f1 = g(x,0.01)\n",
        "\n",
        "  listagmc.append(hmc*sum(f1))"
      ],
      "metadata": {
        "id": "CsJmKZG4ANgo"
      },
      "execution_count": null,
      "outputs": []
    },
    {
      "cell_type": "code",
      "source": [
        "min(listagmc), max(listagmc)"
      ],
      "metadata": {
        "colab": {
          "base_uri": "https://localhost:8080/"
        },
        "id": "sAR3dZodAp41",
        "outputId": "a79e14d1-6d32-460e-db95-0a7bc0360f96"
      },
      "execution_count": null,
      "outputs": [
        {
          "output_type": "execute_result",
          "data": {
            "text/plain": [
              "(8.788067398966399e-26, 5.761252506390737)"
            ]
          },
          "metadata": {},
          "execution_count": 21
        }
      ]
    },
    {
      "cell_type": "code",
      "source": [
        "plt.title(\"Distribución para la integral MC de $g(x,0.01)$\")\n",
        "plt.hist (listagmc, bins=50, ec=\"black\")\n",
        "plt.xlabel(\"Valor Integral\")\n",
        "plt.show()"
      ],
      "metadata": {
        "colab": {
          "base_uri": "https://localhost:8080/",
          "height": 297
        },
        "id": "BuZzdLIPBPZU",
        "outputId": "95d1a615-50b1-46ac-b4e0-a8e78c99dd89"
      },
      "execution_count": null,
      "outputs": [
        {
          "output_type": "display_data",
          "data": {
            "text/plain": [
              "<Figure size 432x288 with 1 Axes>"
            ],
            "image/png": "[encoded data removed]"
          },
          "metadata": {
            "needs_background": "light"
          }
        }
      ]
    },
    {
      "cell_type": "markdown",
      "source": [
        "Otro ejemplo de integral de función \"peaked\":\n",
        "\n",
        "\\begin{equation}\n",
        "F_{2}(x) = \\int_{0}^{2}\\sin^{2}\\left(\\frac{1}{x(2-x)}\\right)\\,dx\n",
        "\\end{equation}\n",
        "\n",
        "Función a integrar:\n",
        "\n",
        "\\begin{equation}\n",
        "g_{1}(x) = \\sin^{2}\\left(\\frac{1}{x(2-x)}\\right)\n",
        "\\end{equation}\n",
        "\n",
        "Resultado:\n",
        "\n",
        "\\begin{equation}\n",
        "F_{2}(x) = 1.451\n",
        "\\end{equation}"
      ],
      "metadata": {
        "id": "mrlMtpf9UkM5"
      }
    },
    {
      "cell_type": "code",
      "source": [
        "xg1 = np.arange(0,2,0.01)\n",
        "\n",
        "def g1(x):\n",
        "  return pow(np.sin(1/(x*(2-x))),2)\n",
        "\n",
        "plt.figure()\n",
        "plt.plot(xg1, g1(xg1), color = 'black')"
      ],
      "metadata": {
        "id": "CoImJUDhCxC-",
        "colab": {
          "base_uri": "https://localhost:8080/",
          "height": 372
        },
        "outputId": "081b05b6-4224-4c55-da81-83a1f94081e2"
      },
      "execution_count": null,
      "outputs": [
        {
          "output_type": "stream",
          "name": "stderr",
          "text": [
            "/usr/local/lib/python3.7/dist-packages/ipykernel_launcher.py:4: RuntimeWarning: divide by zero encountered in true_divide\n",
            "  after removing the cwd from sys.path.\n",
            "/usr/local/lib/python3.7/dist-packages/ipykernel_launcher.py:4: RuntimeWarning: invalid value encountered in sin\n",
            "  after removing the cwd from sys.path.\n"
          ]
        },
        {
          "output_type": "execute_result",
          "data": {
            "text/plain": [
              "[<matplotlib.lines.Line2D at 0x7ff2dc353610>]"
            ]
          },
          "metadata": {},
          "execution_count": 23
        },
        {
          "output_type": "display_data",
          "data": {
            "text/plain": [
              "<Figure size 432x288 with 1 Axes>"
            ],
            "image/png": "[encoded data removed]"
          },
          "metadata": {
            "needs_background": "light"
          }
        }
      ]
    },
    {
      "cell_type": "code",
      "source": [
        "ag1 = 0\n",
        "bg1 = 2\n",
        "\n",
        "nrang = np.arange(20,401)\n",
        "\n",
        "listags1 = []\n",
        "\n",
        "for n in nrang:\n",
        "  h = (bg1 - ag1) / (n - 1)\n",
        "  x = np.linspace(ag1, bg1, n)\n",
        "  f1 = g1(x)\n",
        "  listags1.append((h/3) * (f1[0] + 2*sum(f1[:n-2:2]) + 4*sum(f1[1:n-1:2]) + f1[n-1]))"
      ],
      "metadata": {
        "colab": {
          "base_uri": "https://localhost:8080/"
        },
        "id": "oXeWSldbapeA",
        "outputId": "a0619b6b-3bf3-49fd-c0b6-f70c95d13645"
      },
      "execution_count": null,
      "outputs": [
        {
          "output_type": "stream",
          "name": "stderr",
          "text": [
            "/usr/local/lib/python3.7/dist-packages/ipykernel_launcher.py:4: RuntimeWarning: divide by zero encountered in true_divide\n",
            "  after removing the cwd from sys.path.\n",
            "/usr/local/lib/python3.7/dist-packages/ipykernel_launcher.py:4: RuntimeWarning: invalid value encountered in sin\n",
            "  after removing the cwd from sys.path.\n"
          ]
        }
      ]
    },
    {
      "cell_type": "code",
      "source": [
        "listags1"
      ],
      "metadata": {
        "colab": {
          "base_uri": "https://localhost:8080/"
        },
        "id": "_F8LklAkbi5n",
        "outputId": "c7b4c851-5112-4cff-e734-7be894f891ef"
      },
      "execution_count": null,
      "outputs": [
        {
          "output_type": "execute_result",
          "data": {
            "text/plain": [
              "[nan,\n",
              " nan,\n",
              " nan,\n",
              " nan,\n",
              " nan,\n",
              " nan,\n",
              " nan,\n",
              " nan,\n",
              " nan,\n",
              " nan,\n",
              " nan,\n",
              " nan,\n",
              " nan,\n",
              " nan,\n",
              " nan,\n",
              " nan,\n",
              " nan,\n",
              " nan,\n",
              " nan,\n",
              " nan,\n",
              " nan,\n",
              " nan,\n",
              " nan,\n",
              " nan,\n",
              " nan,\n",
              " nan,\n",
              " nan,\n",
              " nan,\n",
              " nan,\n",
              " nan,\n",
              " nan,\n",
              " nan,\n",
              " nan,\n",
              " nan,\n",
              " nan,\n",
              " nan,\n",
              " nan,\n",
              " nan,\n",
              " nan,\n",
              " nan,\n",
              " nan,\n",
              " nan,\n",
              " nan,\n",
              " nan,\n",
              " nan,\n",
              " nan,\n",
              " nan,\n",
              " nan,\n",
              " nan,\n",
              " nan,\n",
              " nan,\n",
              " nan,\n",
              " nan,\n",
              " nan,\n",
              " nan,\n",
              " nan,\n",
              " nan,\n",
              " nan,\n",
              " nan,\n",
              " nan,\n",
              " nan,\n",
              " nan,\n",
              " nan,\n",
              " nan,\n",
              " nan,\n",
              " nan,\n",
              " nan,\n",
              " nan,\n",
              " nan,\n",
              " nan,\n",
              " nan,\n",
              " nan,\n",
              " nan,\n",
              " nan,\n",
              " nan,\n",
              " nan,\n",
              " nan,\n",
              " nan,\n",
              " nan,\n",
              " nan,\n",
              " nan,\n",
              " nan,\n",
              " nan,\n",
              " nan,\n",
              " nan,\n",
              " nan,\n",
              " nan,\n",
              " nan,\n",
              " nan,\n",
              " nan,\n",
              " nan,\n",
              " nan,\n",
              " nan,\n",
              " nan,\n",
              " nan,\n",
              " nan,\n",
              " nan,\n",
              " nan,\n",
              " nan,\n",
              " nan,\n",
              " nan,\n",
              " nan,\n",
              " nan,\n",
              " nan,\n",
              " nan,\n",
              " nan,\n",
              " nan,\n",
              " nan,\n",
              " nan,\n",
              " nan,\n",
              " nan,\n",
              " nan,\n",
              " nan,\n",
              " nan,\n",
              " nan,\n",
              " nan,\n",
              " nan,\n",
              " nan,\n",
              " nan,\n",
              " nan,\n",
              " nan,\n",
              " nan,\n",
              " nan,\n",
              " nan,\n",
              " nan,\n",
              " nan,\n",
              " nan,\n",
              " nan,\n",
              " nan,\n",
              " nan,\n",
              " nan,\n",
              " nan,\n",
              " nan,\n",
              " nan,\n",
              " nan,\n",
              " nan,\n",
              " nan,\n",
              " nan,\n",
              " nan,\n",
              " nan,\n",
              " nan,\n",
              " nan,\n",
              " nan,\n",
              " nan,\n",
              " nan,\n",
              " nan,\n",
              " nan,\n",
              " nan,\n",
              " nan,\n",
              " nan,\n",
              " nan,\n",
              " nan,\n",
              " nan,\n",
              " nan,\n",
              " nan,\n",
              " nan,\n",
              " nan,\n",
              " nan,\n",
              " nan,\n",
              " nan,\n",
              " nan,\n",
              " nan,\n",
              " nan,\n",
              " nan,\n",
              " nan,\n",
              " nan,\n",
              " nan,\n",
              " nan,\n",
              " nan,\n",
              " nan,\n",
              " nan,\n",
              " nan,\n",
              " nan,\n",
              " nan,\n",
              " nan,\n",
              " nan,\n",
              " nan,\n",
              " nan,\n",
              " nan,\n",
              " nan,\n",
              " nan,\n",
              " nan,\n",
              " nan,\n",
              " nan,\n",
              " nan,\n",
              " nan,\n",
              " nan,\n",
              " nan,\n",
              " nan,\n",
              " nan,\n",
              " nan,\n",
              " nan,\n",
              " nan,\n",
              " nan,\n",
              " nan,\n",
              " nan,\n",
              " nan,\n",
              " nan,\n",
              " nan,\n",
              " nan,\n",
              " nan,\n",
              " nan,\n",
              " nan,\n",
              " nan,\n",
              " nan,\n",
              " nan,\n",
              " nan,\n",
              " nan,\n",
              " nan,\n",
              " nan,\n",
              " nan,\n",
              " nan,\n",
              " nan,\n",
              " nan,\n",
              " nan,\n",
              " nan,\n",
              " nan,\n",
              " nan,\n",
              " nan,\n",
              " nan,\n",
              " nan,\n",
              " nan,\n",
              " nan,\n",
              " nan,\n",
              " nan,\n",
              " nan,\n",
              " nan,\n",
              " nan,\n",
              " nan,\n",
              " nan,\n",
              " nan,\n",
              " nan,\n",
              " nan,\n",
              " nan,\n",
              " nan,\n",
              " nan,\n",
              " nan,\n",
              " nan,\n",
              " nan,\n",
              " nan,\n",
              " nan,\n",
              " nan,\n",
              " nan,\n",
              " nan,\n",
              " nan,\n",
              " nan,\n",
              " nan,\n",
              " nan,\n",
              " nan,\n",
              " nan,\n",
              " nan,\n",
              " nan,\n",
              " nan,\n",
              " nan,\n",
              " nan,\n",
              " nan,\n",
              " nan,\n",
              " nan,\n",
              " nan,\n",
              " nan,\n",
              " nan,\n",
              " nan,\n",
              " nan,\n",
              " nan,\n",
              " nan,\n",
              " nan,\n",
              " nan,\n",
              " nan,\n",
              " nan,\n",
              " nan,\n",
              " nan,\n",
              " nan,\n",
              " nan,\n",
              " nan,\n",
              " nan,\n",
              " nan,\n",
              " nan,\n",
              " nan,\n",
              " nan,\n",
              " nan,\n",
              " nan,\n",
              " nan,\n",
              " nan,\n",
              " nan,\n",
              " nan,\n",
              " nan,\n",
              " nan,\n",
              " nan,\n",
              " nan,\n",
              " nan,\n",
              " nan,\n",
              " nan,\n",
              " nan,\n",
              " nan,\n",
              " nan,\n",
              " nan,\n",
              " nan,\n",
              " nan,\n",
              " nan,\n",
              " nan,\n",
              " nan,\n",
              " nan,\n",
              " nan,\n",
              " nan,\n",
              " nan,\n",
              " nan,\n",
              " nan,\n",
              " nan,\n",
              " nan,\n",
              " nan,\n",
              " nan,\n",
              " nan,\n",
              " nan,\n",
              " nan,\n",
              " nan,\n",
              " nan,\n",
              " nan,\n",
              " nan,\n",
              " nan,\n",
              " nan,\n",
              " nan,\n",
              " nan,\n",
              " nan,\n",
              " nan,\n",
              " nan,\n",
              " nan,\n",
              " nan,\n",
              " nan,\n",
              " nan,\n",
              " nan,\n",
              " nan,\n",
              " nan,\n",
              " nan,\n",
              " nan,\n",
              " nan,\n",
              " nan,\n",
              " nan,\n",
              " nan,\n",
              " nan,\n",
              " nan,\n",
              " nan,\n",
              " nan,\n",
              " nan,\n",
              " nan,\n",
              " nan,\n",
              " nan,\n",
              " nan,\n",
              " nan,\n",
              " nan,\n",
              " nan,\n",
              " nan,\n",
              " nan,\n",
              " nan,\n",
              " nan,\n",
              " nan,\n",
              " nan,\n",
              " nan,\n",
              " nan,\n",
              " nan,\n",
              " nan,\n",
              " nan,\n",
              " nan,\n",
              " nan,\n",
              " nan,\n",
              " nan,\n",
              " nan,\n",
              " nan,\n",
              " nan,\n",
              " nan,\n",
              " nan,\n",
              " nan,\n",
              " nan,\n",
              " nan,\n",
              " nan,\n",
              " nan,\n",
              " nan,\n",
              " nan,\n",
              " nan,\n",
              " nan,\n",
              " nan,\n",
              " nan]"
            ]
          },
          "metadata": {},
          "execution_count": 25
        }
      ]
    },
    {
      "cell_type": "code",
      "source": [
        "listag1mc = []\n",
        "\n",
        "nrang2 = np.arange(10,5000)\n",
        "\n",
        "for n in nrang2:\n",
        "  hmc = (bg1 - ag1)/n\n",
        "  x = random.uniform(ag1, bg1, n)\n",
        "  f1 = g1(x)\n",
        "\n",
        "  listag1mc.append(hmc*sum(f1))"
      ],
      "metadata": {
        "id": "J1yUB_bNbZnf"
      },
      "execution_count": null,
      "outputs": []
    },
    {
      "cell_type": "code",
      "source": [
        "plt.title(\"Distribución para la integral MC de $g_{1}(x)$\")\n",
        "plt.hist (listag1mc, bins=50, ec=\"black\")\n",
        "plt.xlabel(\"Valor Integral\")\n",
        "plt.show()"
      ],
      "metadata": {
        "colab": {
          "base_uri": "https://localhost:8080/",
          "height": 297
        },
        "id": "-GfDEFxOcKAb",
        "outputId": "a890f51e-b1e8-4048-cbe8-2136bf78e781"
      },
      "execution_count": null,
      "outputs": [
        {
          "output_type": "display_data",
          "data": {
            "text/plain": [
              "<Figure size 432x288 with 1 Axes>"
            ],
            "image/png": "[encoded data removed]"
          },
          "metadata": {
            "needs_background": "light"
          }
        }
      ]
    },
    {
      "cell_type": "markdown",
      "source": [
        "#Muestreo de importancia (*Importance Sampling*)\n",
        "\n",
        "Promedio *pesado* para una función $g(x)$:\n",
        "\n",
        "\\begin{equation}\n",
        "\\left<g\\right>_{w} = \\frac{\\int_{a}^{b}w(x)g(x)\\,dx}{\\int_{a}^{b}w(x)\\,dx}\n",
        "\\end{equation}\n",
        "\n",
        "$w(x)$: función **peso**. \n",
        "\n",
        "$g(x)$: función con una divergencia en $[a,b]$.\n",
        "\n",
        "Integrales unidimensionales:\n",
        "\n",
        "\\begin{align}\n",
        "I &= \\int_{a}^{b}f(x)\\,dx\\\\\n",
        "g(x) &= \\frac{f(x)}{w(x)} \\\\\n",
        "\\left<\\frac{f(x)}{w(x)}\\right> &= \\frac{\\int_{a}^{b}w(x)*f(x)/w(x)\\,dx}{\\int_{a}^{b}w(x)\\,dx} = \\frac{\\int_{a}^{b}f(x)\\,dx}{\\int_{a}^{b}w(x)\\,dx} \\\\\n",
        "\\left<\\frac{f(x)}{w(x)}\\right> &= \\frac{I}{\\int_{a}^{b}w(x)\\,dx}\\\\\n",
        "&\\text{Entonces, }\\\\\n",
        "I &= \\left<\\frac{f(x)}{w(x)}\\right>\\int_{a}^{b}w(x)\\,dx\n",
        "\\end{align}\n",
        "\n",
        "#Cálculo del promedio *pesado* $\\left<\\frac{f(x)}{w(x)}\\right>$:\n",
        "\n",
        "Densidad de probabilidad:\n",
        "\n",
        "\\begin{equation}\n",
        "p(x) = \\frac{w(x)}{\\int_{a}^{b}w(x)\\,dx}\n",
        "\\end{equation}\n",
        "\n",
        "Para un punto $x_{i}$:\n",
        "\n",
        "\\begin{equation}\n",
        "dP(x_{i}) = p(x_{i})dx_{i},\\,x\\in[x_{i},x_{i}+dx_{i}]\n",
        "\\end{equation}\n",
        "\n",
        "Para $N$ puntos $x_{i}$ en $[a,b]$ con muestreo $g(x_{i})$:\n",
        "\n",
        "\\begin{equation}\n",
        "\\sum_{i=1}^{N}g(x_{i}) \\approx \\int_{a}^{b}Np(x)g(x)\\,dx\n",
        "\\end{equation}\n",
        "\n",
        "Valor promedio *pesado* de $g(x)$:\n",
        "\n",
        "\\begin{align}\n",
        "\\left<g\\right>_{w} &= \\frac{\\int_{a}^{b}w(x)g(x)\\,dx}{\\int_{a}^{b}w(x)\\,dx} \\\\\n",
        "\\int_{a}^{b}w(x)g(x)\\,dx &= \\int_{a}^{b}w(x')g(x')\\,dx'\\\\\n",
        "w(x') &= \\left(\\int_{a}^{b}w(x)\\,dx\\right)p(x') \\\\\n",
        "\\left<g\\right>_{w} &= \\frac{1}{\\int_{a}^{b}w(x)\\,dx}*\\left[\\int_{a}^{b}w(x)\\,dx*\\int_{a}^{b}p(x')w(x')\\,dx'\\right] \\\\\n",
        "\\left<g\\right>_{w} &\\approx \\frac{1}{N}\\sum_{i=1}^{N}g(x_{i})\n",
        "\\end{align}\n",
        "\n",
        "Finalmente,\n",
        "\n",
        "\\begin{equation}\n",
        "I \\approx \\frac{1}{N}\\sum_{i=1}^{N}\\frac{f(x_{i})}{w(x_{i})}\\int_{a}^{b}w(x)\\,dx\n",
        "\\end{equation}\n",
        "\n",
        "$f(x)/w(x)$: **libre de divergencias**.\n",
        "\n"
      ],
      "metadata": {
        "id": "a5v4gmrfJQYJ"
      }
    },
    {
      "cell_type": "markdown",
      "source": [
        "#Ejemplo:\n",
        "\n",
        "\\begin{equation}\n",
        "I = \\int_{0}^{1}\\frac{x^{-1/2}}{e^{x}+1}\\,dx\n",
        "\\end{equation}"
      ],
      "metadata": {
        "id": "czq1mePvS7vG"
      }
    },
    {
      "cell_type": "code",
      "source": [
        "import numpy as np\n",
        "import matplotlib.pyplot as plt\n",
        "\n",
        "def f2(x):\n",
        "  return pow(np.sqrt(x),-1)/(np.exp(x)+1)\n",
        "\n",
        "xint = np.arange(0,1,0.01)\n",
        "\n",
        "plt.figure()\n",
        "plt.plot(xint, f2(xint), 'b--')"
      ],
      "metadata": {
        "id": "7ECqdDPccQ5D",
        "colab": {
          "base_uri": "https://localhost:8080/",
          "height": 337
        },
        "outputId": "014f34e2-e002-4571-b412-d97d14021403"
      },
      "execution_count": null,
      "outputs": [
        {
          "output_type": "stream",
          "name": "stderr",
          "text": [
            "/usr/local/lib/python3.7/dist-packages/ipykernel_launcher.py:5: RuntimeWarning: divide by zero encountered in reciprocal\n",
            "  \"\"\"\n"
          ]
        },
        {
          "output_type": "execute_result",
          "data": {
            "text/plain": [
              "[<matplotlib.lines.Line2D at 0x7f693b265450>]"
            ]
          },
          "metadata": {},
          "execution_count": 1
        },
        {
          "output_type": "display_data",
          "data": {
            "text/plain": [
              "<Figure size 432x288 with 1 Axes>"
            ],
            "image/png": "[encoded data removed]"
          },
          "metadata": {
            "needs_background": "light"
          }
        }
      ]
    },
    {
      "cell_type": "markdown",
      "source": [
        "Resolver por un método de integración estándar (Simpson, trapecio, etc).\n",
        "\n",
        "Valor teórico: $I\\approx 0.84$"
      ],
      "metadata": {
        "id": "cqp5RJHgT7m2"
      }
    },
    {
      "cell_type": "code",
      "source": [
        "a_1 = 0.0\n",
        "b_1 = 1\n",
        "\n",
        "#nrang_1 = np.arange(20,101)\n",
        "\n",
        "#listafs_1 = []\n",
        "\n",
        "#for n in nrang_1:\n",
        "n = 31\n",
        "h = (b_1 - a_1) / (n - 1)\n",
        "x = np.linspace(a_1, b_1, n)\n",
        "f = f2(x)\n",
        "Int1_MC = (h/3) * (f[0] + 2*sum(f[:n-2:2]) + 4*sum(f[1:n-1:2]) + f[n-1])"
      ],
      "metadata": {
        "colab": {
          "base_uri": "https://localhost:8080/"
        },
        "id": "RvsyFxzcTzxC",
        "outputId": "a6a34c12-6b2a-4736-80ae-ae98afee0b58"
      },
      "execution_count": null,
      "outputs": [
        {
          "output_type": "stream",
          "name": "stderr",
          "text": [
            "/usr/local/lib/python3.7/dist-packages/ipykernel_launcher.py:5: RuntimeWarning: divide by zero encountered in reciprocal\n",
            "  \"\"\"\n"
          ]
        }
      ]
    },
    {
      "cell_type": "code",
      "source": [
        "Int1_MC"
      ],
      "metadata": {
        "colab": {
          "base_uri": "https://localhost:8080/"
        },
        "id": "v333ysk8Uw60",
        "outputId": "8c86e9ae-cb84-47fc-fc49-5a2d8d6dc743"
      },
      "execution_count": null,
      "outputs": [
        {
          "output_type": "execute_result",
          "data": {
            "text/plain": [
              "inf"
            ]
          },
          "metadata": {},
          "execution_count": 11
        }
      ]
    },
    {
      "cell_type": "code",
      "source": [
        "from scipy import random\n",
        "\n",
        "listaf_mc = []\n",
        "\n",
        "nrang_2 = np.arange(10,2000)\n",
        "\n",
        "for n in nrang_2:\n",
        "  hmc = (b_1 - a_1)/n\n",
        "  x = random.uniform(a_1, b_1, n)\n",
        "  f1 = f2(x)\n",
        "\n",
        "  listaf_mc.append(hmc*sum(f1))"
      ],
      "metadata": {
        "id": "2nSFUgWTUtGt"
      },
      "execution_count": null,
      "outputs": []
    },
    {
      "cell_type": "code",
      "source": [
        "plt.title(\"Distribución para la integral MC de $x^{-1/2}/(e^{x}+1)$\")\n",
        "plt.hist (listaf_mc, bins=50, ec=\"black\")\n",
        "plt.xlabel(\"Valor Integral\")\n",
        "plt.xlim(min(listaf_mc),max(listaf_mc))\n",
        "plt.show()"
      ],
      "metadata": {
        "colab": {
          "base_uri": "https://localhost:8080/",
          "height": 299
        },
        "id": "_vQ_G8UnVCL9",
        "outputId": "b539522f-0657-4860-84a8-fbac23cc295b"
      },
      "execution_count": null,
      "outputs": [
        {
          "output_type": "display_data",
          "data": {
            "text/plain": [
              "<Figure size 432x288 with 1 Axes>"
            ],
            "image/png": "[encoded data removed]"
          },
          "metadata": {
            "needs_background": "light"
          }
        }
      ]
    },
    {
      "cell_type": "code",
      "source": [
        "np.array(listaf_mc).mean()"
      ],
      "metadata": {
        "colab": {
          "base_uri": "https://localhost:8080/"
        },
        "id": "0TLcF9UvVTlu",
        "outputId": "8154ceb4-65e7-42bf-e306-96da820f6c12"
      },
      "execution_count": null,
      "outputs": [
        {
          "output_type": "execute_result",
          "data": {
            "text/plain": [
              "0.83630177916556"
            ]
          },
          "metadata": {},
          "execution_count": 17
        }
      ]
    },
    {
      "cell_type": "code",
      "source": [
        "n = 31\n",
        "h = (b_1 - (a_1+0.01)) / (n - 1)\n",
        "x = np.linspace(a_1+0.01, b_1, n)\n",
        "f = pow(np.sqrt(x),-1)\n",
        "\n",
        "I_simp_1 = (h/3) * (f[0] + 2*sum(f[:n-2:2]) + 4*sum(f[1:n-1:2]) + f[n-1])\n",
        "err_simp_1 = 2 - I_simp_1\n",
        "\n",
        "print(I_simp_1)\n",
        "print(err_simp_1)"
      ],
      "metadata": {
        "colab": {
          "base_uri": "https://localhost:8080/"
        },
        "id": "UZPVvaqVgB7V",
        "outputId": "ed3dc578-39c9-4181-bce0-3b18a86a9225"
      },
      "execution_count": null,
      "outputs": [
        {
          "output_type": "stream",
          "name": "stdout",
          "text": [
            "2.030805064956802\n",
            "-0.03080506495680213\n"
          ]
        }
      ]
    },
    {
      "cell_type": "code",
      "source": [
        "x2g1 = random.uniform(a_1, b_1, 1500)\n",
        "x2g2 = random.uniform(a_1, b_1, 5000)\n",
        "\n",
        "def g(x):\n",
        "  return pow(np.sqrt(x),-1)\n",
        "\n",
        "def f2g(x):\n",
        "  return f2(x)/g(x)\n",
        "\n",
        "def intg():\n",
        "  return ((b_1 - a_1)/float(len(x2g1)))*sum(pow(np.sqrt(x2g1),-1))\n",
        "\n",
        "I_g = (intg()*sum(f2g(x2g2)))/float(len(x2g2))\n",
        "\n",
        "print(I_g)\n",
        "print(intg())\n",
        "print(I_g - 0.84)"
      ],
      "metadata": {
        "colab": {
          "base_uri": "https://localhost:8080/"
        },
        "id": "nSxOpx8XWe2f",
        "outputId": "0b49c885-e7dd-4c9c-b34e-9b9235cf7f5d"
      },
      "execution_count": null,
      "outputs": [
        {
          "output_type": "stream",
          "name": "stdout",
          "text": [
            "0.7757429462509462\n",
            "2.035503702931109\n",
            "-0.06425705374905377\n"
          ]
        }
      ]
    },
    {
      "cell_type": "code",
      "source": [
        "listaf_mc2 = []\n",
        "\n",
        "nrang_2 = np.arange(1000,6000)\n",
        "\n",
        "for n in nrang_2:\n",
        "  x = random.uniform(a_1, b_1, n)\n",
        "  f1 = f2g(x)\n",
        "\n",
        "  def gint():\n",
        "    return ((b_1 - a_1)/float(len(x2g1)))*sum(pow(np.sqrt(x2g1),-1))\n",
        "\n",
        "  listaf_mc2.append((sum(f1)*gint())/float(len(x)))"
      ],
      "metadata": {
        "id": "-kqi8iVNWApy"
      },
      "execution_count": null,
      "outputs": []
    },
    {
      "cell_type": "code",
      "source": [
        "plt.title(\"Distribución para la integral MC de $x^{-1/2}/(e^{x}+1)$\")\n",
        "plt.hist (listaf_mc2, bins=50, ec=\"black\")\n",
        "plt.xlabel(\"Valor Integral\")\n",
        "plt.xlim(min(listaf_mc2), max(listaf_mc2))\n",
        "plt.show()"
      ],
      "metadata": {
        "colab": {
          "base_uri": "https://localhost:8080/",
          "height": 299
        },
        "id": "02to5KkdXeJm",
        "outputId": "412855c5-75a7-4753-85c6-4dd509e39dfc"
      },
      "execution_count": null,
      "outputs": [
        {
          "output_type": "display_data",
          "data": {
            "text/plain": [
              "<Figure size 432x288 with 1 Axes>"
            ],
            "image/png": "[encoded data removed]"
          },
          "metadata": {
            "needs_background": "light"
          }
        }
      ]
    },
    {
      "cell_type": "code",
      "source": [
        "min(listaf_mc2), max(listaf_mc2)"
      ],
      "metadata": {
        "colab": {
          "base_uri": "https://localhost:8080/"
        },
        "id": "1ttKOEl2hfEj",
        "outputId": "f1869261-3534-4221-dfcd-317454a0b556"
      },
      "execution_count": null,
      "outputs": [
        {
          "output_type": "execute_result",
          "data": {
            "text/plain": [
              "(0.7616915665776185, 0.7860995626305802)"
            ]
          },
          "metadata": {},
          "execution_count": 43
        }
      ]
    },
    {
      "cell_type": "code",
      "source": [
        "np.array(listaf_mc2).mean() - 0.84"
      ],
      "metadata": {
        "colab": {
          "base_uri": "https://localhost:8080/"
        },
        "id": "w6xm0K0yaiUz",
        "outputId": "2bf0c9b0-50a5-4a9e-d6ed-22fd4cf267f4"
      },
      "execution_count": null,
      "outputs": [
        {
          "output_type": "execute_result",
          "data": {
            "text/plain": [
              "-0.0667277775448124"
            ]
          },
          "metadata": {},
          "execution_count": 44
        }
      ]
    },
    {
      "cell_type": "code",
      "source": [
        "(abs(np.array(listaf_mc2).mean() - 0.84))*(100/0.84)"
      ],
      "metadata": {
        "colab": {
          "base_uri": "https://localhost:8080/"
        },
        "id": "sFzrTaNteJxP",
        "outputId": "37978b89-068d-43d4-ab04-f6b838f501fb"
      },
      "execution_count": null,
      "outputs": [
        {
          "output_type": "execute_result",
          "data": {
            "text/plain": [
              "7.943783041049096"
            ]
          },
          "metadata": {},
          "execution_count": 45
        }
      ]
    },
    {
      "cell_type": "markdown",
      "source": [
        "#Integración en varias dimensiones\n",
        "\n",
        "\\begin{align}\n",
        "&\\text{1 D: } &\\int dx \\propto h\\sum_{i=1}^{N} \\\\\n",
        "&\\text{2 D: } &\\int d^2x \\propto h_{1}\\sum_{i=1}^{N}*h_{2}\\sum_{j=1}^{N} \\\\\n",
        "&\\text{3 D: } &\\int d^3x \\propto h_{1}\\sum_{i=1}^{N}*h_{2}\\sum_{j=1}^{N}*h_{3}\\sum_{k=1}^{N} \\\\\n",
        "&\\text{n D: } &\\int d^3x \\propto h_{1}\\sum_{i_{1}=1}^{N}*h_{2}\\sum_{i_{2}=1}^{N}*\\cdots *h_{n}\\sum_{i_{n}=1}^{N} \\\\\n",
        "\\end{align}\n",
        "\n",
        "Si $N=100$, \n",
        "\n",
        "\\begin{align}\n",
        "&\\text{1 D: 100 puntos}\\\\\n",
        "&\\text{2 D: 100}^{2}\\text{ puntos} \\\\\n",
        "&\\text{3 D: 100}^{3}\\text{ puntos} \\\\\n",
        "&\\text{n D: 100}^{n}\\text{ puntos}\n",
        "\\end{align}\n",
        "\n",
        "En 2D:\n",
        "\n",
        "\\begin{align}\n",
        "&\\int_{a}^{b}dx\\int_{c}^{d}dy\\,f(x,y) \\approx \\frac{(d-c)(b-a)}{N}\\sum_{i}f(\\vec{x}_{i}) \\\\\n",
        "&\\vec{x}_{i} \\in [a,b]\\times[c,d]\n",
        "\\end{align}\n",
        "\n",
        "En n D:\n",
        "\n",
        "\\begin{align}\n",
        "&\\int_{\\mathcal{R}}d^{n}x\\,f(\\vec{x}) \\approx \\frac{V^{n}}{N}\\sum_{i}f(\\vec{x}_{i}) \\\\\n",
        "&V^{N}: \\text{ hipervolumen en n dimensiones} \\\\\n",
        "&\\vec{x}_{i} \\in \\mathcal{R},\\,\\text{dim}\\left\\{\\mathcal{R}\\right\\} = n.\n",
        "\\end{align}\n",
        "\n",
        "Por ejemplo, $V^{n=3}:$ volumen en 3D.\n",
        "\n"
      ],
      "metadata": {
        "id": "4TX-Ep_1w1Hh"
      }
    },
    {
      "cell_type": "markdown",
      "source": [
        "#Ejemplo:\n",
        "\n",
        "Integral de la función\n",
        "\n",
        "\\begin{equation}\n",
        "f(\\vec{x}) = 10 - \\vec{x}^{2}\n",
        "\\end{equation}\n",
        "\n",
        "para $\\vec{x}\\in \\mathbb{R}^{2}\\text{ o }\\mathbb{R}^{3}$ en la región $-2\\leq x\\leq{2},\\,-2\\leq y\\leq 2$ ($-2\\leq z\\leq 2$).\n",
        "\n",
        "Como es sabido,\n",
        "\n",
        "\\begin{align}\n",
        "&\\vec{x}^{2} = \\sum_{i=1}^{n}x_{i}^{2} \\\\\n",
        "&\\text{2 D: }\\vec{x}^{2} = x^{2} + y^{2} \\\\\n",
        "&\\text{3 D: }\\vec{x}^{2} = x^{2} + y^{2} + z^{2}\n",
        "\\end{align}"
      ],
      "metadata": {
        "id": "rrC3LHGe1USw"
      }
    },
    {
      "cell_type": "markdown",
      "source": [
        "Tomado de https://boyangzhao.github.io/posts/monte-carlo-integration"
      ],
      "metadata": {
        "id": "iSb30XZw1ULa"
      }
    },
    {
      "cell_type": "code",
      "source": [
        "def func1(x):\n",
        "    # function f(x)= 10 + sum_i(-x_i^2)\n",
        "    # for 2D: f(x)= 10 - x1^2 - x2^2\n",
        "    return 10 + np.sum(-1*np.power(x, 2), axis=1)\n",
        "  \n",
        "def mc_integrate(func, a, b, dim, n = 1000):\n",
        "    # Monte Carlo integration of given function over domain from a to b (for each parameter)\n",
        "    # dim: dimensions of function\n",
        "    \n",
        "    x_list = np.random.uniform(a, b, (n, dim))\n",
        "    y = func(x_list)\n",
        "    \n",
        "    y_mean =  y.sum()/len(y)\n",
        "    domain = np.power(b-a, dim)\n",
        "    \n",
        "    integ = domain * y_mean\n",
        "    \n",
        "    return integ\n",
        "\n",
        "# Examples\n",
        "print(\"For f(x)= 10 - x\\u00b2 - y\\u00b2, integrated from -2 to 2 (for all x's)\")\n",
        "print(f\"Monte Carlo solution for : {mc_integrate(func1, -2, 2, 2, 1000000): .3f}\")\n",
        "print(f\"Analytical solution: 117.333\")\n",
        "\n",
        "print(\"For f(x)= 10 - x\\u00b2 - y\\u00b2 - z\\u00b2, integrated from -2 to 2 (for all x's)\")\n",
        "print(f\"Monte Carlo solution: {mc_integrate(func1, -2, 2, 3, 1000000): .3f}\")\n",
        "print(f\"Analytical solution: 384.000\")"
      ],
      "metadata": {
        "colab": {
          "base_uri": "https://localhost:8080/"
        },
        "id": "sHuN-krRfWf5",
        "outputId": "002ae670-ffbc-42b1-a1cf-e32f18d0a686"
      },
      "execution_count": null,
      "outputs": [
        {
          "output_type": "stream",
          "name": "stdout",
          "text": [
            "For f(x)= 10 - x² - y², integrated from -2 to 2 (for all x's)\n",
            "Monte Carlo solution for :  117.304\n",
            "Analytical solution: 117.333\n",
            "For f(x)= 10 - x² - y² - z², integrated from -2 to 2 (for all x's)\n",
            "Monte Carlo solution:  383.787\n",
            "Analytical solution: 384.000\n"
          ]
        }
      ]
    },
    {
      "cell_type": "markdown",
      "source": [
        "Integral de la función \n",
        "\n",
        "\\begin{equation}\n",
        "f(\\vec{x}) = 10 - \\vec{x}^{2}\n",
        "\\end{equation}\n",
        "\n",
        "en el interior del círculo unitario, es decir,\n",
        "\n",
        "\\begin{equation}\n",
        "x^{2} + y^{2}\\leq 1\n",
        "\\end{equation}"
      ],
      "metadata": {
        "id": "p9xEEumh4iop"
      }
    },
    {
      "cell_type": "code",
      "source": [
        "def func1(x):\n",
        "    # function f(x)= 10 + sum_i(-x_i^2)\n",
        "    # for 2D: f(x)= 10 - x1^2 - x2^2\n",
        "    return 10 + np.sum(-1*np.power(x, 2), axis=1)\n",
        "\n",
        "def domain_unit_circle(x):\n",
        "    # integration domain: sum of x^2 <= 1. \n",
        "    # For 2d, it's a unit circle; for 3d it's a unit sphere, etc\n",
        "    # returns True for inside domain, False for outside\n",
        "    \n",
        "    return np.power(x,2).sum() <= 1\n",
        "\n",
        "def mc_integrate(func, func_domain, a, b, dim, n = 1000):\n",
        "    # Monte Carlo integration of given function over domain specified by func_domain\n",
        "    # dim: dimensions of function\n",
        "    \n",
        "    # sample x\n",
        "    x_list = np.random.uniform(a, b, (n, dim))\n",
        "    \n",
        "    # determine whether sampled x is inside or outside of domain and calculate its volume\n",
        "    inside_domain = [func_domain(x) for x in x_list]\n",
        "    frac_in_domain = sum(inside_domain)/len(inside_domain)\n",
        "    domain = np.power(b-a, dim) * frac_in_domain\n",
        "    \n",
        "    # calculate expected value of func inside domain\n",
        "    y = func(x_list)\n",
        "    y_mean = y[inside_domain].sum()/len(y[inside_domain])\n",
        "    \n",
        "    # estimated integration\n",
        "    integ = domain * y_mean\n",
        "    \n",
        "    return integ,frac_in_domain,sum(inside_domain),len(inside_domain)\n",
        "\n",
        "print(\"For f(x)= 10 - x\\u00b2 - y\\u00b2, integrated over unit circle\")\n",
        "print(f\"Monte Carlo solution: {mc_integrate(func1, domain_unit_circle, -2, 2, 2, 1000000)[0]: .3f}\")\n",
        "print(f\"Analytical solution: 29.845\")"
      ],
      "metadata": {
        "colab": {
          "base_uri": "https://localhost:8080/"
        },
        "id": "oQOsraUM3fR1",
        "outputId": "9d925874-adfd-410f-ddf5-6bff09a4f7bd"
      },
      "execution_count": null,
      "outputs": [
        {
          "output_type": "stream",
          "name": "stdout",
          "text": [
            "For f(x)= 10 - x² - y², integrated over unit circle\n",
            "Monte Carlo solution:  29.865\n",
            "Analytical solution: 29.845\n"
          ]
        }
      ]
    },
    {
      "cell_type": "code",
      "source": [
        "mc_integrate(func1, domain_unit_circle, -2, 2, 2, 1000000)[1:]"
      ],
      "metadata": {
        "colab": {
          "base_uri": "https://localhost:8080/"
        },
        "id": "uheUV5DTCes2",
        "outputId": "db46d742-7a40-4e80-80dd-572ed4bff403"
      },
      "execution_count": null,
      "outputs": [
        {
          "output_type": "execute_result",
          "data": {
            "text/plain": [
              "(0.196685, 196685, 1000000)"
            ]
          },
          "metadata": {},
          "execution_count": 54
        }
      ]
    },
    {
      "cell_type": "code",
      "source": [
        ""
      ],
      "metadata": {
        "id": "RrmMUocmCkhp"
      },
      "execution_count": null,
      "outputs": []
    }
  ]
}