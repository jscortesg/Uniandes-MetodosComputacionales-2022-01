{
  "nbformat": 4,
  "nbformat_minor": 0,
  "metadata": {
    "colab": {
      "name": "Semana2.ipynb",
      "provenance": [],
      "collapsed_sections": [],
      "authorship_tag": "ABX9TyMXEau6OhWI9JixJfWCqVDp",
      "include_colab_link": true
    },
    "kernelspec": {
      "name": "python3",
      "display_name": "Python 3"
    },
    "language_info": {
      "name": "python"
    }
  },
  "cells": [
    {
      "cell_type": "markdown",
      "metadata": {
        "id": "view-in-github",
        "colab_type": "text"
      },
      "source": [
        "<a href=\"https://colab.research.google.com/github/jscortesg/Uniandes-MetodosComputacionales-2022-01/blob/main/Semana2.ipynb\" target=\"_parent\"><img src=\"https://colab.research.google.com/assets/colab-badge.svg\" alt=\"Open In Colab\"/></a>"
      ]
    },
    {
      "cell_type": "markdown",
      "source": [
        "#Álgebra lineal y sistemas de ecuaciones"
      ],
      "metadata": {
        "id": "ZVgiN8EFTQdW"
      }
    },
    {
      "cell_type": "markdown",
      "source": [
        "Vectores fila y vectores columna:"
      ],
      "metadata": {
        "id": "X5amZ6VUWAM6"
      }
    },
    {
      "cell_type": "code",
      "source": [
        "import numpy as np\n",
        "vector_row = np.array([[1, -5, 3, 2, 4]])\n",
        "vector_column = np.array([[1], \n",
        "                          [2], \n",
        "                          [3], \n",
        "                          [4]])\n",
        "print(vector_row.shape)\n",
        "print(vector_column.shape)"
      ],
      "metadata": {
        "id": "r0lOuJ0hWA2q",
        "colab": {
          "base_uri": "https://localhost:8080/"
        },
        "outputId": "ebd31296-a277-4268-9781-8442a8ded4af"
      },
      "execution_count": null,
      "outputs": [
        {
          "output_type": "stream",
          "name": "stdout",
          "text": [
            "(1, 5)\n",
            "(4, 1)\n"
          ]
        }
      ]
    },
    {
      "cell_type": "code",
      "source": [
        "vector_column"
      ],
      "metadata": {
        "colab": {
          "base_uri": "https://localhost:8080/"
        },
        "id": "J1js9Z2kXwQD",
        "outputId": "51cc7056-b318-41c4-e66e-9792cfbd5503"
      },
      "execution_count": null,
      "outputs": [
        {
          "output_type": "execute_result",
          "data": {
            "text/plain": [
              "array([[1],\n",
              "       [2],\n",
              "       [3],\n",
              "       [4]])"
            ]
          },
          "metadata": {},
          "execution_count": 2
        }
      ]
    },
    {
      "cell_type": "code",
      "source": [
        "vector_row"
      ],
      "metadata": {
        "colab": {
          "base_uri": "https://localhost:8080/"
        },
        "id": "-Q9I0TTYXzNx",
        "outputId": "55c3d591-3db1-4a3c-cd65-28aac00c036e"
      },
      "execution_count": null,
      "outputs": [
        {
          "output_type": "execute_result",
          "data": {
            "text/plain": [
              "array([[ 1, -5,  3,  2,  4]])"
            ]
          },
          "metadata": {},
          "execution_count": 3
        }
      ]
    },
    {
      "cell_type": "code",
      "source": [
        "vector_column[0][0]"
      ],
      "metadata": {
        "colab": {
          "base_uri": "https://localhost:8080/"
        },
        "id": "zv7UjZm7X0md",
        "outputId": "d707056c-0be6-42ae-dee1-f109596bdc76"
      },
      "execution_count": null,
      "outputs": [
        {
          "output_type": "execute_result",
          "data": {
            "text/plain": [
              "1"
            ]
          },
          "metadata": {},
          "execution_count": 4
        }
      ]
    },
    {
      "cell_type": "code",
      "source": [
        "vector_column[0][1]"
      ],
      "metadata": {
        "colab": {
          "base_uri": "https://localhost:8080/",
          "height": 166
        },
        "id": "dmYsywwHYCKS",
        "outputId": "833a33a6-4ab2-4ba7-a75d-13701224f861"
      },
      "execution_count": null,
      "outputs": [
        {
          "output_type": "error",
          "ename": "IndexError",
          "evalue": "ignored",
          "traceback": [
            "\u001b[0;31m---------------------------------------------------------------------------\u001b[0m",
            "\u001b[0;31mIndexError\u001b[0m                                Traceback (most recent call last)",
            "\u001b[0;32m<ipython-input-5-84deb2628ac9>\u001b[0m in \u001b[0;36m<module>\u001b[0;34m()\u001b[0m\n\u001b[0;32m----> 1\u001b[0;31m \u001b[0mvector_column\u001b[0m\u001b[0;34m[\u001b[0m\u001b[0;36m0\u001b[0m\u001b[0;34m]\u001b[0m\u001b[0;34m[\u001b[0m\u001b[0;36m1\u001b[0m\u001b[0;34m]\u001b[0m\u001b[0;34m\u001b[0m\u001b[0;34m\u001b[0m\u001b[0m\n\u001b[0m",
            "\u001b[0;31mIndexError\u001b[0m: index 1 is out of bounds for axis 0 with size 1"
          ]
        }
      ]
    },
    {
      "cell_type": "code",
      "source": [
        "vector_column[1][0]"
      ],
      "metadata": {
        "colab": {
          "base_uri": "https://localhost:8080/"
        },
        "id": "A9JZO7LTYD9S",
        "outputId": "65bd0255-3d06-408e-a53d-7b6731cb21b3"
      },
      "execution_count": null,
      "outputs": [
        {
          "output_type": "execute_result",
          "data": {
            "text/plain": [
              "2"
            ]
          },
          "metadata": {},
          "execution_count": 6
        }
      ]
    },
    {
      "cell_type": "code",
      "source": [
        "vector_column[0,0]"
      ],
      "metadata": {
        "colab": {
          "base_uri": "https://localhost:8080/"
        },
        "id": "h75hDVALYFvR",
        "outputId": "8db58fa6-a9c8-479f-9ad6-e18021bbf667"
      },
      "execution_count": null,
      "outputs": [
        {
          "output_type": "execute_result",
          "data": {
            "text/plain": [
              "1"
            ]
          },
          "metadata": {},
          "execution_count": 7
        }
      ]
    },
    {
      "cell_type": "code",
      "source": [
        "vector_column[1,0]"
      ],
      "metadata": {
        "colab": {
          "base_uri": "https://localhost:8080/"
        },
        "id": "XW601EIZYHO_",
        "outputId": "e9464cd2-9706-497a-86a8-098f086a6abd"
      },
      "execution_count": null,
      "outputs": [
        {
          "output_type": "execute_result",
          "data": {
            "text/plain": [
              "2"
            ]
          },
          "metadata": {},
          "execution_count": 8
        }
      ]
    },
    {
      "cell_type": "code",
      "source": [
        "vector_column[0][0] == vector_column[0,0]"
      ],
      "metadata": {
        "colab": {
          "base_uri": "https://localhost:8080/"
        },
        "id": "bH4jcRmQYJQS",
        "outputId": "69026ac0-562a-4f7c-9e9d-b734df864bca"
      },
      "execution_count": null,
      "outputs": [
        {
          "output_type": "execute_result",
          "data": {
            "text/plain": [
              "True"
            ]
          },
          "metadata": {},
          "execution_count": 9
        }
      ]
    },
    {
      "cell_type": "code",
      "source": [
        "for i in range(0,4):\n",
        "  print(vector_column[i][0] == vector_column[i,0])"
      ],
      "metadata": {
        "colab": {
          "base_uri": "https://localhost:8080/"
        },
        "id": "NBk9d3PZYaLv",
        "outputId": "6efeba60-62af-4541-f631-19b5bf7f3984"
      },
      "execution_count": null,
      "outputs": [
        {
          "output_type": "stream",
          "name": "stdout",
          "text": [
            "True\n",
            "True\n",
            "True\n",
            "True\n"
          ]
        }
      ]
    },
    {
      "cell_type": "code",
      "source": [
        "vector_row[0,0]"
      ],
      "metadata": {
        "colab": {
          "base_uri": "https://localhost:8080/"
        },
        "id": "rLbi1UZlYjoy",
        "outputId": "c215be4b-c6ca-49ef-f56d-64267133ff28"
      },
      "execution_count": null,
      "outputs": [
        {
          "output_type": "execute_result",
          "data": {
            "text/plain": [
              "1"
            ]
          },
          "metadata": {},
          "execution_count": 11
        }
      ]
    },
    {
      "cell_type": "code",
      "source": [
        "vector_row[1,0]"
      ],
      "metadata": {
        "colab": {
          "base_uri": "https://localhost:8080/",
          "height": 166
        },
        "id": "CxZl_GFqYq2N",
        "outputId": "81edb34d-daa3-420b-9df2-901a1aec906e"
      },
      "execution_count": null,
      "outputs": [
        {
          "output_type": "error",
          "ename": "IndexError",
          "evalue": "ignored",
          "traceback": [
            "\u001b[0;31m---------------------------------------------------------------------------\u001b[0m",
            "\u001b[0;31mIndexError\u001b[0m                                Traceback (most recent call last)",
            "\u001b[0;32m<ipython-input-12-675de8cc7c9d>\u001b[0m in \u001b[0;36m<module>\u001b[0;34m()\u001b[0m\n\u001b[0;32m----> 1\u001b[0;31m \u001b[0mvector_row\u001b[0m\u001b[0;34m[\u001b[0m\u001b[0;36m1\u001b[0m\u001b[0;34m,\u001b[0m\u001b[0;36m0\u001b[0m\u001b[0;34m]\u001b[0m\u001b[0;34m\u001b[0m\u001b[0;34m\u001b[0m\u001b[0m\n\u001b[0m",
            "\u001b[0;31mIndexError\u001b[0m: index 1 is out of bounds for axis 0 with size 1"
          ]
        }
      ]
    },
    {
      "cell_type": "code",
      "source": [
        "vector_row[0,1]"
      ],
      "metadata": {
        "colab": {
          "base_uri": "https://localhost:8080/"
        },
        "id": "BQCMCfl_Yseo",
        "outputId": "b6a76ee3-e7a2-42bd-cc74-3565043a6baa"
      },
      "execution_count": null,
      "outputs": [
        {
          "output_type": "execute_result",
          "data": {
            "text/plain": [
              "-5"
            ]
          },
          "metadata": {},
          "execution_count": 13
        }
      ]
    },
    {
      "cell_type": "code",
      "source": [
        "for i in range(0,5):\n",
        "  print(vector_row[0][i] == vector_row[0,i])"
      ],
      "metadata": {
        "colab": {
          "base_uri": "https://localhost:8080/"
        },
        "id": "oaSjrKtEYuCd",
        "outputId": "d5d9d31c-07cd-4c49-9047-6a89493e0c8e"
      },
      "execution_count": null,
      "outputs": [
        {
          "output_type": "stream",
          "name": "stdout",
          "text": [
            "True\n",
            "True\n",
            "True\n",
            "True\n",
            "True\n"
          ]
        }
      ]
    },
    {
      "cell_type": "code",
      "source": [
        "len(vector_row[0])"
      ],
      "metadata": {
        "colab": {
          "base_uri": "https://localhost:8080/"
        },
        "id": "cuoaePLeY0VB",
        "outputId": "e8c7e55d-58d4-4df1-c14a-0ed7ccc2f5e9"
      },
      "execution_count": null,
      "outputs": [
        {
          "output_type": "execute_result",
          "data": {
            "text/plain": [
              "5"
            ]
          },
          "metadata": {},
          "execution_count": 15
        }
      ]
    },
    {
      "cell_type": "code",
      "source": [
        "len(vector_column)"
      ],
      "metadata": {
        "colab": {
          "base_uri": "https://localhost:8080/"
        },
        "id": "yyT_QrjNY9AC",
        "outputId": "dadba0fa-d903-405c-c985-c92df0773852"
      },
      "execution_count": null,
      "outputs": [
        {
          "output_type": "execute_result",
          "data": {
            "text/plain": [
              "4"
            ]
          },
          "metadata": {},
          "execution_count": 16
        }
      ]
    },
    {
      "cell_type": "code",
      "source": [
        ""
      ],
      "metadata": {
        "id": "bdYFgIifZ70D"
      },
      "execution_count": null,
      "outputs": []
    },
    {
      "cell_type": "markdown",
      "source": [
        "#Suma de 2 vectores"
      ],
      "metadata": {
        "id": "IkMhYAn4l4_l"
      }
    },
    {
      "cell_type": "code",
      "source": [
        "V1 = np.array([[1, -3, 0.3]])\n",
        "V2 = np.array([[3, 3.5, -4.2]])"
      ],
      "metadata": {
        "id": "WYYi8u81l3Ju"
      },
      "execution_count": null,
      "outputs": []
    },
    {
      "cell_type": "code",
      "source": [
        "V1+V2"
      ],
      "metadata": {
        "colab": {
          "base_uri": "https://localhost:8080/"
        },
        "id": "dksnE4p0l4VX",
        "outputId": "ce873532-b31a-431d-93f9-989388ad5076"
      },
      "execution_count": null,
      "outputs": [
        {
          "output_type": "execute_result",
          "data": {
            "text/plain": [
              "array([[ 4. ,  0.5, -3.9]])"
            ]
          },
          "metadata": {},
          "execution_count": 18
        }
      ]
    },
    {
      "cell_type": "markdown",
      "source": [
        "#Norma de un vector"
      ],
      "metadata": {
        "id": "IT1ZGyvIY9bQ"
      }
    },
    {
      "cell_type": "code",
      "source": [
        "def norma_fil(x):\n",
        "\n",
        "  sumac=0\n",
        "\n",
        "  for i in range(0,len(x[0])):\n",
        "    sumac += pow(x[0][i],2)\n",
        "\n",
        "  return round(pow(sumac,0.5),3)\n",
        "\n"
      ],
      "metadata": {
        "id": "r0tBd5KXY-zZ"
      },
      "execution_count": null,
      "outputs": []
    },
    {
      "cell_type": "code",
      "source": [
        "norma_fil(vector_row)"
      ],
      "metadata": {
        "colab": {
          "base_uri": "https://localhost:8080/"
        },
        "id": "eAXw-lUXaN4K",
        "outputId": "d3c1dbef-e49d-4d38-eade-81abeeef5f88"
      },
      "execution_count": null,
      "outputs": [
        {
          "output_type": "execute_result",
          "data": {
            "text/plain": [
              "7.416"
            ]
          },
          "metadata": {},
          "execution_count": 20
        }
      ]
    },
    {
      "cell_type": "code",
      "source": [
        "def norma_col(x):\n",
        "\n",
        "  sumac=0\n",
        "\n",
        "  for i in range(0,len(x)):\n",
        "    sumac += pow(x[i][0],2)\n",
        "\n",
        "  return round(pow(sumac,0.5),2)"
      ],
      "metadata": {
        "id": "ZKRIzXykaQ6t"
      },
      "execution_count": null,
      "outputs": []
    },
    {
      "cell_type": "code",
      "source": [
        "norma_col(vector_column)"
      ],
      "metadata": {
        "colab": {
          "base_uri": "https://localhost:8080/"
        },
        "id": "B5wVOLrDaY_R",
        "outputId": "7379e678-24b6-46a0-cd08-200ca188a26c"
      },
      "execution_count": null,
      "outputs": [
        {
          "output_type": "execute_result",
          "data": {
            "text/plain": [
              "5.48"
            ]
          },
          "metadata": {},
          "execution_count": 22
        }
      ]
    },
    {
      "cell_type": "markdown",
      "source": [
        "Librería para calcular normas de vectores en $L^{∞}$:"
      ],
      "metadata": {
        "id": "469UR8M-a6Uv"
      }
    },
    {
      "cell_type": "code",
      "source": [
        "from numpy.linalg import norm"
      ],
      "metadata": {
        "id": "chmDI7t4ab61"
      },
      "execution_count": null,
      "outputs": []
    },
    {
      "cell_type": "code",
      "source": [
        "vf1 = np.array([[3,-3,2.5]])\n",
        "vf1"
      ],
      "metadata": {
        "colab": {
          "base_uri": "https://localhost:8080/"
        },
        "id": "6jqIv6QEa5Yr",
        "outputId": "31408312-5aff-4aaf-e1d4-a1b0d0ad7ff0"
      },
      "execution_count": null,
      "outputs": [
        {
          "output_type": "execute_result",
          "data": {
            "text/plain": [
              "array([[ 3. , -3. ,  2.5]])"
            ]
          },
          "metadata": {},
          "execution_count": 24
        }
      ]
    },
    {
      "cell_type": "code",
      "source": [
        "vf1.T #vector traspuesto"
      ],
      "metadata": {
        "colab": {
          "base_uri": "https://localhost:8080/"
        },
        "id": "LsQtsY6xbbSO",
        "outputId": "aacc7059-647e-4b91-83de-141c02d1fe13"
      },
      "execution_count": null,
      "outputs": [
        {
          "output_type": "execute_result",
          "data": {
            "text/plain": [
              "array([[ 3. ],\n",
              "       [-3. ],\n",
              "       [ 2.5]])"
            ]
          },
          "metadata": {},
          "execution_count": 25
        }
      ]
    },
    {
      "cell_type": "markdown",
      "source": [
        "Norma $L_{1}$: $|\\vec{x}|_{1} = \\sum_{i=0}^{\\infty}|x_{i}|$"
      ],
      "metadata": {
        "id": "nsXPISGvbn_K"
      }
    },
    {
      "cell_type": "code",
      "source": [
        "norm_1 = norm(vf1.T, 1)"
      ],
      "metadata": {
        "id": "vs43OXXnb06U"
      },
      "execution_count": null,
      "outputs": []
    },
    {
      "cell_type": "code",
      "source": [
        "norm_1"
      ],
      "metadata": {
        "colab": {
          "base_uri": "https://localhost:8080/"
        },
        "id": "VNdgFM1Nb59J",
        "outputId": "8f10a6b5-cacd-4b27-fab7-3da07a791982"
      },
      "execution_count": null,
      "outputs": [
        {
          "output_type": "execute_result",
          "data": {
            "text/plain": [
              "8.5"
            ]
          },
          "metadata": {},
          "execution_count": 27
        }
      ]
    },
    {
      "cell_type": "code",
      "source": [
        "sum1 = 0\n",
        "\n",
        "for el in vf1[0]:\n",
        "  sum1 += abs(el)\n",
        "\n",
        "print(sum1)"
      ],
      "metadata": {
        "colab": {
          "base_uri": "https://localhost:8080/"
        },
        "id": "jpNwkdImb6yx",
        "outputId": "8379ff87-3a5a-455b-d2db-7cfd8a4d9698"
      },
      "execution_count": null,
      "outputs": [
        {
          "output_type": "stream",
          "name": "stdout",
          "text": [
            "8.5\n"
          ]
        }
      ]
    },
    {
      "cell_type": "markdown",
      "source": [
        "Norma $L_{2}$ (euclideana): $|\\vec{x}|_{2} = \\sqrt{\\sum_{i=0}^{\\infty}x_{i}^{2}}$"
      ],
      "metadata": {
        "id": "na_aB_8ocSZe"
      }
    },
    {
      "cell_type": "code",
      "source": [
        "norm_2 = norm(vf1.T,2)\n",
        "round(norm_2,2)"
      ],
      "metadata": {
        "colab": {
          "base_uri": "https://localhost:8080/"
        },
        "id": "MWtagBbFchHx",
        "outputId": "d8c88111-d720-46d0-dccd-eda654538efb"
      },
      "execution_count": null,
      "outputs": [
        {
          "output_type": "execute_result",
          "data": {
            "text/plain": [
              "4.92"
            ]
          },
          "metadata": {},
          "execution_count": 29
        }
      ]
    },
    {
      "cell_type": "code",
      "source": [
        "norm(vf1.T)"
      ],
      "metadata": {
        "colab": {
          "base_uri": "https://localhost:8080/"
        },
        "id": "AgovCJVag3_q",
        "outputId": "481d8a34-eaea-457c-e6e7-cf502b14a93e"
      },
      "execution_count": null,
      "outputs": [
        {
          "output_type": "execute_result",
          "data": {
            "text/plain": [
              "4.924428900898052"
            ]
          },
          "metadata": {},
          "execution_count": 30
        }
      ]
    },
    {
      "cell_type": "code",
      "source": [
        "norm(vf1)"
      ],
      "metadata": {
        "colab": {
          "base_uri": "https://localhost:8080/"
        },
        "id": "zd5Lc8I4g-0r",
        "outputId": "0e7ada8c-3d03-40be-fc18-ed4c2f1411db"
      },
      "execution_count": null,
      "outputs": [
        {
          "output_type": "execute_result",
          "data": {
            "text/plain": [
              "4.924428900898052"
            ]
          },
          "metadata": {},
          "execution_count": 31
        }
      ]
    },
    {
      "cell_type": "code",
      "source": [
        "sum2 = 0\n",
        "\n",
        "for el in vf1[0]:\n",
        "  sum2 += pow(el,2)\n",
        "\n",
        "print(round(pow(sum2,0.5),2))"
      ],
      "metadata": {
        "colab": {
          "base_uri": "https://localhost:8080/"
        },
        "id": "iUkkWCoscm9v",
        "outputId": "9261424a-6d5a-46b6-c543-fc8e9ba45535"
      },
      "execution_count": null,
      "outputs": [
        {
          "output_type": "stream",
          "name": "stdout",
          "text": [
            "4.92\n"
          ]
        }
      ]
    },
    {
      "cell_type": "markdown",
      "source": [
        "Norma $L_{\\infty}$: $|\\vec{x}|_{∞} = max_{i\\geq 1}|x_{i}|,\\,i=1,2,3,\\cdots$."
      ],
      "metadata": {
        "id": "Z4yVAQU3egQU"
      }
    },
    {
      "cell_type": "code",
      "source": [
        "norm_inf = norm(vf1.T,np.inf)\n",
        "norm_inf"
      ],
      "metadata": {
        "colab": {
          "base_uri": "https://localhost:8080/"
        },
        "id": "HYVbkH2he0nB",
        "outputId": "b7fcc950-7fba-4237-aa57-feadc85e2d8c"
      },
      "execution_count": null,
      "outputs": [
        {
          "output_type": "execute_result",
          "data": {
            "text/plain": [
              "3.0"
            ]
          },
          "metadata": {},
          "execution_count": 33
        }
      ]
    },
    {
      "cell_type": "code",
      "source": [
        ""
      ],
      "metadata": {
        "id": "zwlBUnPXfL5E"
      },
      "execution_count": null,
      "outputs": []
    },
    {
      "cell_type": "markdown",
      "source": [
        "#Producto punto y producto cruz"
      ],
      "metadata": {
        "id": "cpW4xL1xfJA7"
      }
    },
    {
      "cell_type": "markdown",
      "source": [
        "Producto punto:"
      ],
      "metadata": {
        "id": "Ju7tL1amf2Yi"
      }
    },
    {
      "cell_type": "code",
      "source": [
        "v1 = np.array([[1,-0.6,0.3]])\n",
        "v2 = np.array([[2,-0.2,6]]) "
      ],
      "metadata": {
        "id": "wzfAX07ofOMi"
      },
      "execution_count": null,
      "outputs": []
    },
    {
      "cell_type": "code",
      "source": [
        "def prod_p(x,y):\n",
        "  ppunt = 0\n",
        "\n",
        "  for i in range(0,len(x[0])):\n",
        "    ppunt += x[0][i]*y[0][i]\n",
        "\n",
        "  return ppunt"
      ],
      "metadata": {
        "id": "oQGNUBIcgCAf"
      },
      "execution_count": null,
      "outputs": []
    },
    {
      "cell_type": "code",
      "source": [
        "prod_p(v1,v2)"
      ],
      "metadata": {
        "colab": {
          "base_uri": "https://localhost:8080/"
        },
        "id": "fVl7IeuUgXeU",
        "outputId": "68dcee15-0b75-4ce0-e213-f0ba046aafcc"
      },
      "execution_count": null,
      "outputs": [
        {
          "output_type": "execute_result",
          "data": {
            "text/plain": [
              "3.92"
            ]
          },
          "metadata": {},
          "execution_count": 36
        }
      ]
    },
    {
      "cell_type": "code",
      "source": [
        "from numpy import arccos, dot #producto punto y cos inv\n",
        "\n",
        "dot(v1,v2.T)"
      ],
      "metadata": {
        "colab": {
          "base_uri": "https://localhost:8080/"
        },
        "id": "05oAAFYygZyV",
        "outputId": "b1927f3b-e2f0-4bd0-ef7a-d67ec7e3a59f"
      },
      "execution_count": null,
      "outputs": [
        {
          "output_type": "execute_result",
          "data": {
            "text/plain": [
              "array([[3.92]])"
            ]
          },
          "metadata": {},
          "execution_count": 37
        }
      ]
    },
    {
      "cell_type": "markdown",
      "source": [
        "Ángulo entre los dos vectores:"
      ],
      "metadata": {
        "id": "PzSr-qNggvBx"
      }
    },
    {
      "cell_type": "code",
      "source": [
        "arccos(dot(v1,v2.T)/(norm(v1)*norm(v2)))"
      ],
      "metadata": {
        "colab": {
          "base_uri": "https://localhost:8080/"
        },
        "id": "plgzRrhegqUn",
        "outputId": "990bf5c4-0b24-4530-8ed6-d7158bc9897b"
      },
      "execution_count": null,
      "outputs": [
        {
          "output_type": "execute_result",
          "data": {
            "text/plain": [
              "array([[1.0304138]])"
            ]
          },
          "metadata": {},
          "execution_count": 38
        }
      ]
    },
    {
      "cell_type": "code",
      "source": [
        ""
      ],
      "metadata": {
        "id": "m8Koe17ehEHG"
      },
      "execution_count": null,
      "outputs": []
    },
    {
      "cell_type": "markdown",
      "source": [
        "Producto cruz:"
      ],
      "metadata": {
        "id": "kISpbvCih5CY"
      }
    },
    {
      "cell_type": "code",
      "source": [
        "v = np.array([[0, 2, 0]])\n",
        "w = np.array([[3, 0, 0]])\n",
        "print(np.cross(v, w))"
      ],
      "metadata": {
        "colab": {
          "base_uri": "https://localhost:8080/"
        },
        "id": "UccdBXhxh6hD",
        "outputId": "795cd2c1-f248-40e1-d4b4-40c2b529bccb"
      },
      "execution_count": null,
      "outputs": [
        {
          "output_type": "stream",
          "name": "stdout",
          "text": [
            "[[ 0  0 -6]]\n"
          ]
        }
      ]
    },
    {
      "cell_type": "code",
      "source": [
        "np.cross(v1,v2)"
      ],
      "metadata": {
        "colab": {
          "base_uri": "https://localhost:8080/"
        },
        "id": "B0F5zUK3iCWI",
        "outputId": "aa27c498-1035-43ce-cc58-8a451b04a2b9"
      },
      "execution_count": null,
      "outputs": [
        {
          "output_type": "execute_result",
          "data": {
            "text/plain": [
              "array([[-3.54, -5.4 ,  1.  ]])"
            ]
          },
          "metadata": {},
          "execution_count": 40
        }
      ]
    },
    {
      "cell_type": "markdown",
      "source": [
        "Ángulo entre los dos vectores:"
      ],
      "metadata": {
        "id": "P1SIL8AiiQKY"
      }
    },
    {
      "cell_type": "code",
      "source": [
        "np.arcsin(norm(np.cross(v1,v2))/(norm(v1)*norm(v2)))"
      ],
      "metadata": {
        "colab": {
          "base_uri": "https://localhost:8080/"
        },
        "id": "wddr0e5iiR0L",
        "outputId": "e5fa980f-7917-42dc-f21b-40d89a9607a4"
      },
      "execution_count": null,
      "outputs": [
        {
          "output_type": "execute_result",
          "data": {
            "text/plain": [
              "1.030413801773236"
            ]
          },
          "metadata": {},
          "execution_count": 41
        }
      ]
    },
    {
      "cell_type": "markdown",
      "source": [
        "Ejercicio: código para el producto triple entre 3 vectores $\\vec{A}\\cdot\\left(\\vec{B}\\times\\vec{C}\\right)$"
      ],
      "metadata": {
        "id": "0fII4rPuiqto"
      }
    },
    {
      "cell_type": "markdown",
      "source": [
        "#*Ejercicio*: código para el producto triple entre 3 vectores $\\vec{A}\\cdot\\left(\\vec{B}\\times\\vec{C}\\right)$"
      ],
      "metadata": {
        "id": "9ss29BuOj80v"
      }
    },
    {
      "cell_type": "markdown",
      "source": [
        ""
      ],
      "metadata": {
        "id": "yJwC9vnVj7Ph"
      }
    },
    {
      "cell_type": "code",
      "source": [
        "A = np.array([[-1, -3.5, 6]])\n",
        "B = np.array([[2,- 0.5, -2]])\n",
        "C = np.array([[1, 2, -3]])"
      ],
      "metadata": {
        "id": "vHdoYnKRijgT"
      },
      "execution_count": null,
      "outputs": []
    },
    {
      "cell_type": "code",
      "source": [
        "def prod_t(x, y, z):\n",
        "\n",
        "  prodc = np.cross(y,z)\n",
        "\n",
        "  tri = np.dot(x,prodc.T)\n",
        "\n",
        "  return tri"
      ],
      "metadata": {
        "id": "17nVeTF4jEu-"
      },
      "execution_count": null,
      "outputs": []
    },
    {
      "cell_type": "code",
      "source": [
        "prod_t(A,B,C)"
      ],
      "metadata": {
        "colab": {
          "base_uri": "https://localhost:8080/"
        },
        "id": "yZfqdOuCjUpV",
        "outputId": "39bae107-65f4-4073-d7b2-51eff86fd447"
      },
      "execution_count": null,
      "outputs": [
        {
          "output_type": "execute_result",
          "data": {
            "text/plain": [
              "array([[7.5]])"
            ]
          },
          "metadata": {},
          "execution_count": 46
        }
      ]
    },
    {
      "cell_type": "code",
      "source": [
        ""
      ],
      "metadata": {
        "id": "VKp60vrUjYOS"
      },
      "execution_count": null,
      "outputs": []
    },
    {
      "cell_type": "code",
      "source": [
        ""
      ],
      "metadata": {
        "id": "WkkGmFKImYH8"
      },
      "execution_count": null,
      "outputs": []
    },
    {
      "cell_type": "code",
      "source": [
        ""
      ],
      "metadata": {
        "id": "tr_exLANmXg1"
      },
      "execution_count": null,
      "outputs": []
    },
    {
      "cell_type": "markdown",
      "source": [
        "#Matrices"
      ],
      "metadata": {
        "id": "m4sGijjDmVOm"
      }
    },
    {
      "cell_type": "code",
      "source": [
        "m1 = np.array([[1,0], [3,-6], [2,0.5]])\n",
        "m2 = np.array([[-1,2], [3,6], [10,-5]])\n",
        "\n",
        "m1 + m2"
      ],
      "metadata": {
        "colab": {
          "base_uri": "https://localhost:8080/"
        },
        "id": "q6T5_2aumXHn",
        "outputId": "c4018cc0-fa6b-4c95-e939-ba77403d7a99"
      },
      "execution_count": null,
      "outputs": [
        {
          "output_type": "execute_result",
          "data": {
            "text/plain": [
              "array([[ 0. ,  2. ],\n",
              "       [ 6. ,  0. ],\n",
              "       [12. , -4.5]])"
            ]
          },
          "metadata": {},
          "execution_count": 47
        }
      ]
    },
    {
      "cell_type": "code",
      "source": [
        "print(m1)\n",
        "print(m2)"
      ],
      "metadata": {
        "colab": {
          "base_uri": "https://localhost:8080/"
        },
        "id": "MNSS_WV90Ech",
        "outputId": "e7df3851-8511-4afa-d7ab-186f186bed49"
      },
      "execution_count": null,
      "outputs": [
        {
          "output_type": "stream",
          "name": "stdout",
          "text": [
            "[[ 1.   0. ]\n",
            " [ 3.  -6. ]\n",
            " [ 2.   0.5]]\n",
            "[[-1  2]\n",
            " [ 3  6]\n",
            " [10 -5]]\n"
          ]
        }
      ]
    },
    {
      "cell_type": "markdown",
      "source": [
        "Producto matricial:\n",
        "\n",
        "Para dos matrices $P$ y $Q$ tales que n° columnas $P$ = n° filas $Q$,\n",
        "\n",
        "$M_{ij} = (P Q)_{ij} = \\sum_{k=1}^{\\text{n° col. }P}P_{ik}Q_{kj}$."
      ],
      "metadata": {
        "id": "ylAjitvTnOd0"
      }
    },
    {
      "cell_type": "code",
      "source": [
        "P = np.array([[1, 7], [2, 3], [5, 0]])\n",
        "Q = np.array([[2, 6, 3, 1], [1, 2, 3, 4]])\n",
        "print(\"P = \\n\", P)\n",
        "print(\"Q = \\n\", Q)\n",
        "print(\"M = PQ = \\n\", np.dot(P, Q))"
      ],
      "metadata": {
        "colab": {
          "base_uri": "https://localhost:8080/"
        },
        "id": "87VB9fIYmnGd",
        "outputId": "94aab00a-f4cd-4fbe-9a55-5f482d3f0e72"
      },
      "execution_count": null,
      "outputs": [
        {
          "output_type": "stream",
          "name": "stdout",
          "text": [
            "P = \n",
            " [[1 7]\n",
            " [2 3]\n",
            " [5 0]]\n",
            "Q = \n",
            " [[2 6 3 1]\n",
            " [1 2 3 4]]\n",
            "M = PQ = \n",
            " [[ 9 20 24 29]\n",
            " [ 7 18 15 14]\n",
            " [10 30 15  5]]\n"
          ]
        }
      ]
    },
    {
      "cell_type": "code",
      "source": [
        "np.dot(Q, P)"
      ],
      "metadata": {
        "colab": {
          "base_uri": "https://localhost:8080/",
          "height": 200
        },
        "id": "dMr4SsBDn6q0",
        "outputId": "559a5534-0d7e-4d31-e94b-239420906d6c"
      },
      "execution_count": null,
      "outputs": [
        {
          "output_type": "error",
          "ename": "ValueError",
          "evalue": "ignored",
          "traceback": [
            "\u001b[0;31m---------------------------------------------------------------------------\u001b[0m",
            "\u001b[0;31mValueError\u001b[0m                                Traceback (most recent call last)",
            "\u001b[0;32m<ipython-input-52-42572999baaa>\u001b[0m in \u001b[0;36m<module>\u001b[0;34m()\u001b[0m\n\u001b[0;32m----> 1\u001b[0;31m \u001b[0mnp\u001b[0m\u001b[0;34m.\u001b[0m\u001b[0mdot\u001b[0m\u001b[0;34m(\u001b[0m\u001b[0mQ\u001b[0m\u001b[0;34m,\u001b[0m \u001b[0mP\u001b[0m\u001b[0;34m)\u001b[0m\u001b[0;34m\u001b[0m\u001b[0;34m\u001b[0m\u001b[0m\n\u001b[0m",
            "\u001b[0;32m<__array_function__ internals>\u001b[0m in \u001b[0;36mdot\u001b[0;34m(*args, **kwargs)\u001b[0m\n",
            "\u001b[0;31mValueError\u001b[0m: shapes (2,4) and (3,2) not aligned: 4 (dim 1) != 3 (dim 0)"
          ]
        }
      ]
    },
    {
      "cell_type": "code",
      "source": [
        ""
      ],
      "metadata": {
        "id": "KDFF_2wroR2H"
      },
      "execution_count": null,
      "outputs": []
    },
    {
      "cell_type": "markdown",
      "source": [
        "Determinante de una matriz:"
      ],
      "metadata": {
        "id": "iES-xg96okf1"
      }
    },
    {
      "cell_type": "markdown",
      "source": [
        "Matriz 2x2:\n",
        "\n",
        "$\\begin{vmatrix}\n",
        "a & b \\\\\n",
        "c & d\n",
        "\\end{vmatrix}\n",
        "= ad - bc$\n",
        "\n",
        "Matriz 3x3:\n",
        "\n",
        "$\\begin{vmatrix}\n",
        "a & b & c\\\\\n",
        "d & e & f\\\\\n",
        "g & h & i\n",
        "\\end{vmatrix}\n",
        "= a\\begin{vmatrix} e & f \\\\ h & i\\end{vmatrix} - b\\begin{vmatrix} d & f \\\\ g & i\\end{vmatrix} + c\\begin{vmatrix} d & e \\\\ g & h\\end{vmatrix}$"
      ],
      "metadata": {
        "id": "bW_t--mnonzN"
      }
    },
    {
      "cell_type": "code",
      "source": [
        "from numpy.linalg import det # determinante de matrices cuadradas"
      ],
      "metadata": {
        "id": "yVGLxp4Wol0v"
      },
      "execution_count": null,
      "outputs": []
    },
    {
      "cell_type": "code",
      "source": [
        "#from numpy.linalg import det\n",
        "\n",
        "M = np.array([[0,2,1,3], \n",
        "             [3,2,8,1], \n",
        "             [1,0,0,3],\n",
        "             [0,3,2,1]])\n",
        "print('M:\\n', M)\n",
        "\n",
        "print('Determinante: %.2f'%det(M))"
      ],
      "metadata": {
        "colab": {
          "base_uri": "https://localhost:8080/"
        },
        "id": "jLZ9oohMpcN8",
        "outputId": "f81f3eb7-1a80-4b50-ee3e-86dfdd1a73fd"
      },
      "execution_count": null,
      "outputs": [
        {
          "output_type": "stream",
          "name": "stdout",
          "text": [
            "M:\n",
            " [[0 2 1 3]\n",
            " [3 2 8 1]\n",
            " [1 0 0 3]\n",
            " [0 3 2 1]]\n",
            "Determinante: -38.00\n"
          ]
        }
      ]
    },
    {
      "cell_type": "code",
      "source": [
        "S1 = np.array([[1,0,1],\n",
        "               [0.5,0,-0.5],\n",
        "               [0,2,0]])\n",
        "\n",
        "print('S1:\\n', S1)\n",
        "\n",
        "print('Determinante S1: %.1f'%det(S1))"
      ],
      "metadata": {
        "colab": {
          "base_uri": "https://localhost:8080/"
        },
        "id": "jtu97VDCp8B2",
        "outputId": "785df8c7-a1dd-4072-bd5e-0d189aa4a6a1"
      },
      "execution_count": null,
      "outputs": [
        {
          "output_type": "stream",
          "name": "stdout",
          "text": [
            "S1:\n",
            " [[ 1.   0.   1. ]\n",
            " [ 0.5  0.  -0.5]\n",
            " [ 0.   2.   0. ]]\n",
            "Determinante S1: 2.0\n"
          ]
        }
      ]
    },
    {
      "cell_type": "code",
      "source": [
        ""
      ],
      "metadata": {
        "id": "SPu04EB4qVNS"
      },
      "execution_count": null,
      "outputs": []
    },
    {
      "cell_type": "markdown",
      "source": [
        "Inversión de matrices:"
      ],
      "metadata": {
        "id": "g9ILMvq0qzgC"
      }
    },
    {
      "cell_type": "code",
      "source": [
        "from numpy.linalg import inv #para invertir matrices cuadradas"
      ],
      "metadata": {
        "id": "NTGIRF_0q0jD"
      },
      "execution_count": null,
      "outputs": []
    },
    {
      "cell_type": "code",
      "source": [
        "inv(M)"
      ],
      "metadata": {
        "colab": {
          "base_uri": "https://localhost:8080/"
        },
        "id": "73_tNEM1q4TD",
        "outputId": "42907b72-1548-47ca-9ee4-7f51ede1c320"
      },
      "execution_count": null,
      "outputs": [
        {
          "output_type": "execute_result",
          "data": {
            "text/plain": [
              "array([[-1.57894737, -0.07894737,  1.23684211,  1.10526316],\n",
              "       [-0.63157895, -0.13157895,  0.39473684,  0.84210526],\n",
              "       [ 0.68421053,  0.18421053, -0.55263158, -0.57894737],\n",
              "       [ 0.52631579,  0.02631579, -0.07894737, -0.36842105]])"
            ]
          },
          "metadata": {},
          "execution_count": 57
        }
      ]
    },
    {
      "cell_type": "code",
      "source": [
        "inv(S1)"
      ],
      "metadata": {
        "colab": {
          "base_uri": "https://localhost:8080/"
        },
        "id": "eMIHB8uQrIJP",
        "outputId": "8893704d-4a0d-439b-dd4d-97c4a2116a2c"
      },
      "execution_count": null,
      "outputs": [
        {
          "output_type": "execute_result",
          "data": {
            "text/plain": [
              "array([[ 0.5,  1. ,  0. ],\n",
              "       [ 0. ,  0. ,  0.5],\n",
              "       [ 0.5, -1. , -0. ]])"
            ]
          },
          "metadata": {},
          "execution_count": 58
        }
      ]
    },
    {
      "cell_type": "code",
      "source": [
        "np.dot(S1,inv(S1))"
      ],
      "metadata": {
        "colab": {
          "base_uri": "https://localhost:8080/"
        },
        "id": "JiPqi7GnrJ7j",
        "outputId": "c835d320-9ec5-4136-8e87-1311a2b7f0ea"
      },
      "execution_count": null,
      "outputs": [
        {
          "output_type": "execute_result",
          "data": {
            "text/plain": [
              "array([[1., 0., 0.],\n",
              "       [0., 1., 0.],\n",
              "       [0., 0., 1.]])"
            ]
          },
          "metadata": {},
          "execution_count": 59
        }
      ]
    },
    {
      "cell_type": "code",
      "source": [
        ""
      ],
      "metadata": {
        "id": "LSDDjStYrRsX"
      },
      "execution_count": null,
      "outputs": []
    },
    {
      "cell_type": "markdown",
      "source": [
        "Matriz invertible y no invertible:\n",
        "\n",
        "Si $det(M)\\neq 0$, $M$ es invertible.\n",
        "\n",
        "No obstante, si $det(M)\\approx 0$, $M$ es CASI singular.\n",
        "\n",
        "N° condición $CN$ en una matriz: si $CN\\approx 0$, $M$ es invertible.\n",
        "\n",
        "Si $CN$ es muy grande, $M$ está cerca de ser no invertible."
      ],
      "metadata": {
        "id": "XCgBQGwCtaX3"
      }
    },
    {
      "cell_type": "markdown",
      "source": [
        "$CN = \\frac{max\\left\\{\\sigma_{i}\\right\\}}{min\\left\\{\\sigma_{i}\\right\\}}, \\text{ }\\sigma_{i}:\\text{ valores singulares}$.\n",
        "\n",
        "Valores singulares: valores propios de $MM^{T}$."
      ],
      "metadata": {
        "id": "qnYu1A-nW5yt"
      }
    },
    {
      "cell_type": "code",
      "source": [
        "from numpy.linalg import cond"
      ],
      "metadata": {
        "id": "If5kZqzduKC7"
      },
      "execution_count": null,
      "outputs": []
    },
    {
      "cell_type": "code",
      "source": [
        "cond(S1)"
      ],
      "metadata": {
        "colab": {
          "base_uri": "https://localhost:8080/"
        },
        "id": "EyeF_B5WuyNt",
        "outputId": "2bc1d636-83e3-49bc-8460-58e643903f90"
      },
      "execution_count": null,
      "outputs": [
        {
          "output_type": "execute_result",
          "data": {
            "text/plain": [
              "2.82842712474619"
            ]
          },
          "metadata": {},
          "execution_count": 61
        }
      ]
    },
    {
      "cell_type": "code",
      "source": [
        "cond(M)"
      ],
      "metadata": {
        "colab": {
          "base_uri": "https://localhost:8080/"
        },
        "id": "6mQwDgFTu1IX",
        "outputId": "5e557ab9-1a17-4dfb-87c7-e01140ebc130"
      },
      "execution_count": null,
      "outputs": [
        {
          "output_type": "execute_result",
          "data": {
            "text/plain": [
              "26.701583248938807"
            ]
          },
          "metadata": {},
          "execution_count": 62
        }
      ]
    },
    {
      "cell_type": "code",
      "source": [
        "ep = pow(10,-6)\n",
        "\n",
        "msing = np.array([[1, 1],\n",
        "                  [1+ep, 1]])\n",
        "msing"
      ],
      "metadata": {
        "colab": {
          "base_uri": "https://localhost:8080/"
        },
        "id": "m5I3LslKu22s",
        "outputId": "2f415689-05ac-4c70-8a94-d98cdf635c26"
      },
      "execution_count": null,
      "outputs": [
        {
          "output_type": "execute_result",
          "data": {
            "text/plain": [
              "array([[1.      , 1.      ],\n",
              "       [1.000001, 1.      ]])"
            ]
          },
          "metadata": {},
          "execution_count": 63
        }
      ]
    },
    {
      "cell_type": "code",
      "source": [
        "det(msing)"
      ],
      "metadata": {
        "colab": {
          "base_uri": "https://localhost:8080/"
        },
        "id": "alHNTfKSvEJU",
        "outputId": "a33ba68b-a859-4a32-9d0c-631264c2f093"
      },
      "execution_count": null,
      "outputs": [
        {
          "output_type": "execute_result",
          "data": {
            "text/plain": [
              "-9.999999999388548e-07"
            ]
          },
          "metadata": {},
          "execution_count": 64
        }
      ]
    },
    {
      "cell_type": "code",
      "source": [
        "cond(msing)"
      ],
      "metadata": {
        "colab": {
          "base_uri": "https://localhost:8080/"
        },
        "id": "uRRlshU5vGWU",
        "outputId": "c577079e-a239-4ced-9105-a9264a404612"
      },
      "execution_count": null,
      "outputs": [
        {
          "output_type": "execute_result",
          "data": {
            "text/plain": [
              "4000002.000924071"
            ]
          },
          "metadata": {},
          "execution_count": 65
        }
      ]
    },
    {
      "cell_type": "code",
      "source": [
        ""
      ],
      "metadata": {
        "id": "TI4TGpNbvIiD"
      },
      "execution_count": null,
      "outputs": []
    },
    {
      "cell_type": "code",
      "source": [
        ""
      ],
      "metadata": {
        "id": "xtTntvD1vOA1"
      },
      "execution_count": null,
      "outputs": []
    },
    {
      "cell_type": "markdown",
      "source": [
        "#Sistemas de ecuaciones lineales"
      ],
      "metadata": {
        "id": "RlQ_w4kmvQB1"
      }
    },
    {
      "cell_type": "markdown",
      "source": [
        "Forma matricial: $A\\vec{x}=\\vec{y}$.\n",
        "\n",
        "$\\begin{pmatrix}\n",
        "a_{11} & a_{12} & \\cdots & a_{1n} \\\\\n",
        "a_{21} & a_{22} & \\cdots & a_{2n} \\\\\n",
        "\\cdots & \\cdots & \\cdots & \\cdots \\\\\n",
        "a_{n1} & a_{n2} & \\cdots & a_{nn}\n",
        "\\end{pmatrix}\n",
        "\\begin{pmatrix}\n",
        "x_{1} \\\\\n",
        "x_{2}\\\\\n",
        "\\cdots\\\\\n",
        "x_{n}\n",
        "\\end{pmatrix}\n",
        "=\n",
        "\\begin{pmatrix}\n",
        "y_{1} \\\\\n",
        "y_{2}\\\\\n",
        "\\cdots\\\\\n",
        "y_{n}\n",
        "\\end{pmatrix}$"
      ],
      "metadata": {
        "id": "8tjEz7MIvjiu"
      }
    },
    {
      "cell_type": "markdown",
      "source": [
        "Método de Gauss-Jordan:\n",
        "\n",
        "$A\\vec{x}=\\vec{y}$. Si $A$ es invertible,\n",
        "\n",
        "$\\hat{1}\\vec{x} = A^{-1}\\vec{y},\\text{ }AA^{-1}=\\hat{1}$."
      ],
      "metadata": {
        "id": "01ENMlP5mR67"
      }
    },
    {
      "cell_type": "markdown",
      "source": [
        "Método de descomposición LU:\n",
        "\n",
        "En el sistema $A\\vec{x}=\\vec{y}$, existen $L$ y $U$ tales que\n",
        "\n",
        "$A = LU$, donde\n",
        "\n",
        "$L = \n",
        "\\begin{pmatrix}\n",
        "l_{11} & 0 & \\cdots & 0 \\\\\n",
        "l_{21} & l_{22} & \\cdots & 0 \\\\\n",
        "\\cdots & \\cdots & \\cdots & \\cdots \\\\\n",
        "l_{n1} & l_{n2} & \\cdots & l_{nn}\n",
        "\\end{pmatrix}$ y $U = \n",
        "\\begin{pmatrix}\n",
        "u_{11} & u_{12} & \\cdots & u_{1n} \\\\\n",
        "0 & u_{22} & \\cdots & u_{2n} \\\\\n",
        "\\cdots & \\cdots & \\cdots & \\cdots \\\\\n",
        "0 & 0 & \\cdots & u_{nn}\n",
        "\\end{pmatrix}$."
      ],
      "metadata": {
        "id": "DQHGR8LRmz5h"
      }
    },
    {
      "cell_type": "markdown",
      "source": [
        "Gauss-Jordan: eliminación. \n",
        "\n",
        "Descomposición LU: sustitución.\n",
        "\n",
        "Nota: matrices cuadradas $n\\times n$."
      ],
      "metadata": {
        "id": "b8MAbJ4ysG7u"
      }
    },
    {
      "cell_type": "markdown",
      "source": [
        "$(P)A = LU \\rightarrow P:\\text{permutación filas}.$ \n",
        "\n",
        "Si $U\\vec{x} = M$, $LM = \\vec{y}$.\n",
        "\n",
        "$L^{-1}LM=U\\vec{x}=L^{-1}\\vec{y}$. Entonces,\n",
        "\n",
        "$\\vec{x}=U^{-1}L^{-1}\\vec{y}$\n"
      ],
      "metadata": {
        "id": "u-SwMUkgy9jD"
      }
    },
    {
      "cell_type": "markdown",
      "source": [
        "Solución de sistemas de ecuaciones usando NumPy:"
      ],
      "metadata": {
        "id": "0drQLWl0t_bP"
      }
    },
    {
      "cell_type": "code",
      "source": [
        "import numpy as np"
      ],
      "metadata": {
        "id": "9hx2rfxiwUsR"
      },
      "execution_count": null,
      "outputs": []
    },
    {
      "cell_type": "code",
      "source": [
        "A = np.array([[1,3,-3],\n",
        "              [0.5,-0.5,2],\n",
        "              [1,1,-4]])\n",
        "\n",
        "A"
      ],
      "metadata": {
        "colab": {
          "base_uri": "https://localhost:8080/"
        },
        "id": "-aX-sf_nuKN-",
        "outputId": "21da9674-8729-44fa-9d75-a854ecf9a65c"
      },
      "execution_count": null,
      "outputs": [
        {
          "output_type": "execute_result",
          "data": {
            "text/plain": [
              "array([[ 1. ,  3. , -3. ],\n",
              "       [ 0.5, -0.5,  2. ],\n",
              "       [ 1. ,  1. , -4. ]])"
            ]
          },
          "metadata": {},
          "execution_count": 2
        }
      ]
    },
    {
      "cell_type": "code",
      "source": [
        "from numpy.linalg import det\n",
        "det(A)"
      ],
      "metadata": {
        "colab": {
          "base_uri": "https://localhost:8080/"
        },
        "id": "I-V5Cqh0uyzs",
        "outputId": "5feab511-a4e3-4bb7-f0f9-b5aae0333a98"
      },
      "execution_count": null,
      "outputs": [
        {
          "output_type": "execute_result",
          "data": {
            "text/plain": [
              "9.000000000000002"
            ]
          },
          "metadata": {},
          "execution_count": 3
        }
      ]
    },
    {
      "cell_type": "code",
      "source": [
        "y = np.array([2,-3,5])\n",
        "y"
      ],
      "metadata": {
        "colab": {
          "base_uri": "https://localhost:8080/"
        },
        "id": "yCEIJazSvPaX",
        "outputId": "b4bd378d-eb27-430f-b44c-bfa4b70e8518"
      },
      "execution_count": null,
      "outputs": [
        {
          "output_type": "execute_result",
          "data": {
            "text/plain": [
              "array([ 2, -3,  5])"
            ]
          },
          "metadata": {},
          "execution_count": 4
        }
      ]
    },
    {
      "cell_type": "markdown",
      "source": [
        "Comando a utilizar: solve de numpy.linalg"
      ],
      "metadata": {
        "id": "MXF0dxWYvDmi"
      }
    },
    {
      "cell_type": "code",
      "source": [
        "x = np.linalg.solve(A, y)\n",
        "print(x)"
      ],
      "metadata": {
        "colab": {
          "base_uri": "https://localhost:8080/"
        },
        "id": "Bu3yY0Vvu1ui",
        "outputId": "3f162223-d9e0-4b01-8a1d-cf47b7066583"
      },
      "execution_count": null,
      "outputs": [
        {
          "output_type": "stream",
          "name": "stdout",
          "text": [
            "[-0.5        -0.72222222 -1.55555556]\n"
          ]
        }
      ]
    },
    {
      "cell_type": "markdown",
      "source": [
        "Gauss-Jordan: $A\\vec{x}=\\vec{y}$. Entonces, $\\vec{x}=A^{-1}y$"
      ],
      "metadata": {
        "id": "80-gmkWfvq6r"
      }
    },
    {
      "cell_type": "code",
      "source": [
        "A_inv = np.linalg.inv(A) #inversa de A\n",
        "A_inv"
      ],
      "metadata": {
        "colab": {
          "base_uri": "https://localhost:8080/"
        },
        "id": "7vqwi2zNvV8t",
        "outputId": "e8ec8563-a273-4190-970f-e6b7bb8f625c"
      },
      "execution_count": null,
      "outputs": [
        {
          "output_type": "execute_result",
          "data": {
            "text/plain": [
              "array([[ 0.        ,  1.        ,  0.5       ],\n",
              "       [ 0.44444444, -0.11111111, -0.38888889],\n",
              "       [ 0.11111111,  0.22222222, -0.22222222]])"
            ]
          },
          "metadata": {},
          "execution_count": 6
        }
      ]
    },
    {
      "cell_type": "code",
      "source": [
        "np.matmul(A_inv,A)"
      ],
      "metadata": {
        "colab": {
          "base_uri": "https://localhost:8080/"
        },
        "id": "zduvZU64v5LG",
        "outputId": "f0ceb5bd-d40b-4e6e-f5e2-df717a7544f6"
      },
      "execution_count": null,
      "outputs": [
        {
          "output_type": "execute_result",
          "data": {
            "text/plain": [
              "array([[ 1.00000000e+00, -1.11022302e-16,  4.44089210e-16],\n",
              "       [ 0.00000000e+00,  1.00000000e+00, -2.22044605e-16],\n",
              "       [ 0.00000000e+00,  0.00000000e+00,  1.00000000e+00]])"
            ]
          },
          "metadata": {},
          "execution_count": 7
        }
      ]
    },
    {
      "cell_type": "code",
      "source": [
        "np.dot(A_inv,A)"
      ],
      "metadata": {
        "colab": {
          "base_uri": "https://localhost:8080/"
        },
        "id": "x837ll44xFOi",
        "outputId": "a9199f11-f2a3-4ab2-d541-28f428da80c0"
      },
      "execution_count": null,
      "outputs": [
        {
          "output_type": "execute_result",
          "data": {
            "text/plain": [
              "array([[ 1.00000000e+00, -1.11022302e-16,  4.44089210e-16],\n",
              "       [ 0.00000000e+00,  1.00000000e+00, -2.22044605e-16],\n",
              "       [ 0.00000000e+00,  0.00000000e+00,  1.00000000e+00]])"
            ]
          },
          "metadata": {},
          "execution_count": 8
        }
      ]
    },
    {
      "cell_type": "code",
      "source": [
        "x = np.dot(A_inv,y)\n",
        "x"
      ],
      "metadata": {
        "colab": {
          "base_uri": "https://localhost:8080/"
        },
        "id": "Kp26hOGDv9dn",
        "outputId": "01b6c08d-95bd-4bd0-bc75-7c530c34f769"
      },
      "execution_count": null,
      "outputs": [
        {
          "output_type": "execute_result",
          "data": {
            "text/plain": [
              "array([-0.5       , -0.72222222, -1.55555556])"
            ]
          },
          "metadata": {},
          "execution_count": 9
        }
      ]
    },
    {
      "cell_type": "markdown",
      "source": [
        "Matrices diagonal superior e inferior:"
      ],
      "metadata": {
        "id": "2_wuqsFmwZOn"
      }
    },
    {
      "cell_type": "code",
      "source": [
        "from scipy.linalg import lu"
      ],
      "metadata": {
        "id": "zwsvmApHwU9V"
      },
      "execution_count": null,
      "outputs": []
    },
    {
      "cell_type": "code",
      "source": [
        "P, L, U = lu(A)\n",
        "print('P:\\n', P)\n",
        "print('L:\\n', L)\n",
        "print('U:\\n', U)\n",
        "print('LU:\\n',np.dot(L, U))"
      ],
      "metadata": {
        "colab": {
          "base_uri": "https://localhost:8080/"
        },
        "id": "bgHH2AjWwfbM",
        "outputId": "47973df1-bddb-43b0-a4a8-ffb96bb9fae4"
      },
      "execution_count": null,
      "outputs": [
        {
          "output_type": "stream",
          "name": "stdout",
          "text": [
            "P:\n",
            " [[1. 0. 0.]\n",
            " [0. 1. 0.]\n",
            " [0. 0. 1.]]\n",
            "L:\n",
            " [[1.  0.  0. ]\n",
            " [0.5 1.  0. ]\n",
            " [1.  1.  1. ]]\n",
            "U:\n",
            " [[ 1.   3.  -3. ]\n",
            " [ 0.  -2.   3.5]\n",
            " [ 0.   0.  -4.5]]\n",
            "LU:\n",
            " [[ 1.   3.  -3. ]\n",
            " [ 0.5 -0.5  2. ]\n",
            " [ 1.   1.  -4. ]]\n"
          ]
        }
      ]
    },
    {
      "cell_type": "code",
      "source": [
        "A"
      ],
      "metadata": {
        "colab": {
          "base_uri": "https://localhost:8080/"
        },
        "id": "FEa05E4Lltqk",
        "outputId": "d2c44a0d-899c-4871-a009-54b821da2b8c"
      },
      "execution_count": null,
      "outputs": [
        {
          "output_type": "execute_result",
          "data": {
            "text/plain": [
              "array([[ 1. ,  3. , -3. ],\n",
              "       [ 0.5, -0.5,  2. ],\n",
              "       [ 1. ,  1. , -4. ]])"
            ]
          },
          "metadata": {},
          "execution_count": 12
        }
      ]
    },
    {
      "cell_type": "markdown",
      "source": [
        "$P$: permutación en el orden de las ecuaciones"
      ],
      "metadata": {
        "id": "WAJnpGMgxO8k"
      }
    },
    {
      "cell_type": "code",
      "source": [
        "np.linalg.inv(L)"
      ],
      "metadata": {
        "colab": {
          "base_uri": "https://localhost:8080/"
        },
        "id": "vrz7d2YXxJfw",
        "outputId": "c49dd6d9-6d4d-4148-df8f-20aa8804338c"
      },
      "execution_count": null,
      "outputs": [
        {
          "output_type": "execute_result",
          "data": {
            "text/plain": [
              "array([[ 1. ,  0. ,  0. ],\n",
              "       [-0.5,  1. ,  0. ],\n",
              "       [-0.5, -1. ,  1. ]])"
            ]
          },
          "metadata": {},
          "execution_count": 13
        }
      ]
    },
    {
      "cell_type": "code",
      "source": [
        "np.linalg.inv(U)"
      ],
      "metadata": {
        "colab": {
          "base_uri": "https://localhost:8080/"
        },
        "id": "9dbgQKwFzlMi",
        "outputId": "c014328a-bca1-4c1d-b033-1fc79019dbbd"
      },
      "execution_count": null,
      "outputs": [
        {
          "output_type": "execute_result",
          "data": {
            "text/plain": [
              "array([[ 1.        ,  1.5       ,  0.5       ],\n",
              "       [-0.        , -0.5       , -0.38888889],\n",
              "       [-0.        , -0.        , -0.22222222]])"
            ]
          },
          "metadata": {},
          "execution_count": 14
        }
      ]
    },
    {
      "cell_type": "code",
      "source": [
        "L_inv = np.linalg.inv(L)\n",
        "U_inv = np.linalg.inv(U)\n",
        "\n",
        "x_LU= np.dot(U_inv, np.dot(L_inv,y))\n",
        "x_LU"
      ],
      "metadata": {
        "colab": {
          "base_uri": "https://localhost:8080/"
        },
        "id": "JWU6WvJ9zqd0",
        "outputId": "93802dc9-35f6-4afb-c540-445223b36732"
      },
      "execution_count": null,
      "outputs": [
        {
          "output_type": "execute_result",
          "data": {
            "text/plain": [
              "array([-0.5       , -0.72222222, -1.55555556])"
            ]
          },
          "metadata": {},
          "execution_count": 15
        }
      ]
    },
    {
      "cell_type": "code",
      "source": [
        "x"
      ],
      "metadata": {
        "colab": {
          "base_uri": "https://localhost:8080/"
        },
        "id": "23ucSx620BL4",
        "outputId": "98aa4047-0ad6-4b69-c341-83b75509e10d"
      },
      "execution_count": null,
      "outputs": [
        {
          "output_type": "execute_result",
          "data": {
            "text/plain": [
              "array([-0.5       , -0.72222222, -1.55555556])"
            ]
          },
          "metadata": {},
          "execution_count": 16
        }
      ]
    },
    {
      "cell_type": "markdown",
      "source": [
        "Ecuación a resolver: $LM = \\vec{y},\\text{ }M=U\\vec{x}$."
      ],
      "metadata": {
        "id": "KeOajcjZVI8d"
      }
    },
    {
      "cell_type": "code",
      "source": [
        "L"
      ],
      "metadata": {
        "colab": {
          "base_uri": "https://localhost:8080/"
        },
        "id": "7Y9NHZgEUovd",
        "outputId": "05df325b-bb40-4715-8d6a-91360673a388"
      },
      "execution_count": null,
      "outputs": [
        {
          "output_type": "execute_result",
          "data": {
            "text/plain": [
              "array([[1. , 0. , 0. ],\n",
              "       [0.5, 1. , 0. ],\n",
              "       [1. , 1. , 1. ]])"
            ]
          },
          "metadata": {},
          "execution_count": 17
        }
      ]
    },
    {
      "cell_type": "code",
      "source": [
        "x2 = np.linalg.solve(L, y)\n",
        "x2"
      ],
      "metadata": {
        "colab": {
          "base_uri": "https://localhost:8080/"
        },
        "id": "a5RM9gKNT0sn",
        "outputId": "55bd75c5-2f9f-4fed-9402-b592ee1f1fe7"
      },
      "execution_count": null,
      "outputs": [
        {
          "output_type": "execute_result",
          "data": {
            "text/plain": [
              "array([ 2., -4.,  7.])"
            ]
          },
          "metadata": {},
          "execution_count": 18
        }
      ]
    },
    {
      "cell_type": "markdown",
      "source": [
        "Solución a $LM = \\vec{y}$.\n",
        "\n",
        "Como $M = U\\vec{x}$, $U\\vec{x} = \\vec{x}_{2}$.\n",
        "\n",
        "Entonces, $\\vec{x} = U^{-1}\\vec{x}_{2}$."
      ],
      "metadata": {
        "id": "9ADMpu13Vbo9"
      }
    },
    {
      "cell_type": "code",
      "source": [
        "np.dot(U_inv, x2)"
      ],
      "metadata": {
        "colab": {
          "base_uri": "https://localhost:8080/"
        },
        "id": "S2NKQnzEVaeF",
        "outputId": "1026c731-a5fa-4ccb-e1ca-17db9b94d36b"
      },
      "execution_count": null,
      "outputs": [
        {
          "output_type": "execute_result",
          "data": {
            "text/plain": [
              "array([-0.5       , -0.72222222, -1.55555556])"
            ]
          },
          "metadata": {},
          "execution_count": 19
        }
      ]
    },
    {
      "cell_type": "code",
      "source": [
        "x"
      ],
      "metadata": {
        "colab": {
          "base_uri": "https://localhost:8080/"
        },
        "id": "ahp9TWWTWGju",
        "outputId": "555d6cc7-335f-4a91-f0d7-4c76714ca3c2"
      },
      "execution_count": null,
      "outputs": [
        {
          "output_type": "execute_result",
          "data": {
            "text/plain": [
              "array([-0.5       , -0.72222222, -1.55555556])"
            ]
          },
          "metadata": {},
          "execution_count": 20
        }
      ]
    },
    {
      "cell_type": "code",
      "source": [
        ""
      ],
      "metadata": {
        "id": "jv8iWyg5UZbm"
      },
      "execution_count": null,
      "outputs": []
    },
    {
      "cell_type": "markdown",
      "source": [
        "#Ejercicio:\n",
        "\n",
        "![circuito1.png](data:image/png;base64,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)\n",
        "\n",
        "Obtener las leyes de Kirchhoff y resolver matricialmente los valores de las corrientes."
      ],
      "metadata": {
        "id": "ZkuPWMVy1YvP"
      }
    },
    {
      "cell_type": "markdown",
      "source": [
        "![circuito1a.png](data:image/png;base64,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)"
      ],
      "metadata": {
        "id": "1sC6NNeQ3Lne"
      }
    },
    {
      "cell_type": "markdown",
      "source": [
        "Malla 1 (antihoraria): $18 - 8I_{1} - 11I_{2} + 12 - 7I_{2} - 5I_{1} = 0$\n",
        "\n",
        "Malla 2 (horaria): $12 - 7I_{2} - 36 + 5I_{3} - 11I_{2} = 0$ \n",
        "\n",
        "Nodo: $I_{1} = I_{2} + I_{3}$"
      ],
      "metadata": {
        "id": "obkoTIJG3P9B"
      }
    },
    {
      "cell_type": "markdown",
      "source": [
        "Sistema de ecuaciones:\n",
        "\n",
        "$13I_{1} + 18I_{2} = 30$\n",
        "\n",
        "$-18I_{2} +5I_{3} = 24$\n",
        "\n",
        "$I_{1} - I_{2} - I_{3} = 0$\n",
        "\n",
        "$\n",
        "\\begin{pmatrix}\n",
        "13 & 18 &  0 \\\\\n",
        "0 & -18 & 5 \\\\\n",
        "1 & -1 & -1 \n",
        "\\end{pmatrix}*\n",
        "\\begin{pmatrix}\n",
        "I_{1} \\\\\n",
        "I_{2} \\\\\n",
        "I_{3}\n",
        "\\end{pmatrix} = \\begin{pmatrix} 30 \\\\  24 \\\\ 0\\end{pmatrix}\n",
        "$"
      ],
      "metadata": {
        "id": "cw20DAgR329x"
      }
    },
    {
      "cell_type": "markdown",
      "source": [
        "$A = \\begin{pmatrix}\n",
        "13 & 18 &  0 \\\\\n",
        "0 & -18 & 5 \\\\\n",
        "1 & -1 & -1 \n",
        "\\end{pmatrix}$,  $\\vec{x} = \\begin{pmatrix} I_{1} \\\\  I_{2} \\\\ I_{3}\\end{pmatrix}$, $\\vec{y} = \\begin{pmatrix} 30 \\\\  24 \\\\ 0\\end{pmatrix}$"
      ],
      "metadata": {
        "id": "5MywQoGI5ZMi"
      }
    },
    {
      "cell_type": "code",
      "source": [
        "A_i = np.array([[13, 18, 0],\n",
        "              [0, -18, 5],\n",
        "              [1, -1, -1]])\n",
        "\n",
        "det(A_i)"
      ],
      "metadata": {
        "colab": {
          "base_uri": "https://localhost:8080/"
        },
        "id": "_Puz6ZkY11Ig",
        "outputId": "0bcc177c-0780-4ae8-b8a2-935abf22951b"
      },
      "execution_count": null,
      "outputs": [
        {
          "output_type": "execute_result",
          "data": {
            "text/plain": [
              "389.00000000000017"
            ]
          },
          "metadata": {},
          "execution_count": 21
        }
      ]
    },
    {
      "cell_type": "code",
      "source": [
        "y_i = np.array([30, 24, 0])\n",
        "y_i "
      ],
      "metadata": {
        "colab": {
          "base_uri": "https://localhost:8080/"
        },
        "id": "6oc2S3sV8RzZ",
        "outputId": "cfd94a62-bd5f-4c06-97fc-7fed2c2e1951"
      },
      "execution_count": null,
      "outputs": [
        {
          "output_type": "execute_result",
          "data": {
            "text/plain": [
              "array([30, 24,  0])"
            ]
          },
          "metadata": {},
          "execution_count": 22
        }
      ]
    },
    {
      "cell_type": "code",
      "source": [
        "x_i = np.linalg.solve(A_i, y_i)\n",
        "x_i"
      ],
      "metadata": {
        "colab": {
          "base_uri": "https://localhost:8080/"
        },
        "id": "wK5PpyvF8Ye4",
        "outputId": "71af4b3d-f4bd-418d-eb31-bebac78ab9ef"
      },
      "execution_count": null,
      "outputs": [
        {
          "output_type": "execute_result",
          "data": {
            "text/plain": [
              "array([ 2.88431877, -0.41645244,  3.30077121])"
            ]
          },
          "metadata": {},
          "execution_count": 23
        }
      ]
    },
    {
      "cell_type": "code",
      "source": [
        "A_iinv = np.linalg.inv(A_i)\n",
        "A_iinv"
      ],
      "metadata": {
        "colab": {
          "base_uri": "https://localhost:8080/"
        },
        "id": "Lemt-nZz8gu_",
        "outputId": "00f314ca-d5c1-4701-e5e9-a0233662b991"
      },
      "execution_count": null,
      "outputs": [
        {
          "output_type": "execute_result",
          "data": {
            "text/plain": [
              "array([[ 0.05912596,  0.04627249,  0.23136247],\n",
              "       [ 0.01285347, -0.03341902, -0.16709512],\n",
              "       [ 0.04627249,  0.07969152, -0.60154242]])"
            ]
          },
          "metadata": {},
          "execution_count": 24
        }
      ]
    },
    {
      "cell_type": "code",
      "source": [
        "x_iinv = np.dot(A_iinv,y_i)\n",
        "x_iinv"
      ],
      "metadata": {
        "colab": {
          "base_uri": "https://localhost:8080/"
        },
        "id": "ugY8Awy29k3A",
        "outputId": "aa0b2096-a54c-4e34-f467-cd1ccd6d246e"
      },
      "execution_count": null,
      "outputs": [
        {
          "output_type": "execute_result",
          "data": {
            "text/plain": [
              "array([ 2.88431877, -0.41645244,  3.30077121])"
            ]
          },
          "metadata": {},
          "execution_count": 25
        }
      ]
    },
    {
      "cell_type": "code",
      "source": [
        ""
      ],
      "metadata": {
        "id": "l6G1djN29piw"
      },
      "execution_count": null,
      "outputs": []
    },
    {
      "cell_type": "markdown",
      "source": [
        "#Valores propios y vectores propios"
      ],
      "metadata": {
        "id": "Teqn0Y-SAG7i"
      }
    },
    {
      "cell_type": "markdown",
      "source": [
        "Ecuación de valores y vectores propios: $A\\vec{x}=\\lambda\\vec{x}$.\n",
        "\n",
        "Ecuación característica: $(A-\\lambda\\hat{1})\\vec{x}=0$.\n",
        "\n",
        "Solución: $\\text{det}\\left(A-\\lambda\\hat{1}\\right)=0$."
      ],
      "metadata": {
        "id": "M5RtNJ2YBA9Y"
      }
    },
    {
      "cell_type": "code",
      "source": [
        "import numpy as np\n",
        "from numpy.linalg import eig"
      ],
      "metadata": {
        "id": "inVMxXfeAGWm"
      },
      "execution_count": null,
      "outputs": []
    },
    {
      "cell_type": "code",
      "source": [
        "a = np.array([[2, 2, 4], \n",
        "              [1, 3, 5],\n",
        "              [2, 3, 4]])\n",
        "w,v=eig(a)\n",
        "print('E-value:', w)\n",
        "print('E-vector:\\n', v)"
      ],
      "metadata": {
        "colab": {
          "base_uri": "https://localhost:8080/"
        },
        "id": "uAQGg1gUCgD4",
        "outputId": "0bd999ad-3489-40f6-ec6e-67cb9ac6c635"
      },
      "execution_count": null,
      "outputs": [
        {
          "output_type": "stream",
          "name": "stdout",
          "text": [
            "E-value: [ 8.80916362  0.92620912 -0.73537273]\n",
            "E-vector:\n",
            " [[-0.52799324 -0.77557092 -0.36272811]\n",
            " [-0.604391    0.62277013 -0.7103262 ]\n",
            " [-0.59660259 -0.10318482  0.60321224]]\n"
          ]
        }
      ]
    },
    {
      "cell_type": "code",
      "source": [
        "type(w)"
      ],
      "metadata": {
        "colab": {
          "base_uri": "https://localhost:8080/"
        },
        "id": "9Tcsw71bCoh5",
        "outputId": "c4bb4952-95ee-4f62-bbbe-f4d8d48c628d"
      },
      "execution_count": null,
      "outputs": [
        {
          "output_type": "execute_result",
          "data": {
            "text/plain": [
              "numpy.ndarray"
            ]
          },
          "metadata": {},
          "execution_count": 28
        }
      ]
    },
    {
      "cell_type": "code",
      "source": [
        "type(v)"
      ],
      "metadata": {
        "colab": {
          "base_uri": "https://localhost:8080/"
        },
        "id": "ot8gBiVuCp1j",
        "outputId": "08fefb63-d4ae-4cc9-a254-2d7ca77a7da1"
      },
      "execution_count": null,
      "outputs": [
        {
          "output_type": "execute_result",
          "data": {
            "text/plain": [
              "numpy.ndarray"
            ]
          },
          "metadata": {},
          "execution_count": 29
        }
      ]
    },
    {
      "cell_type": "code",
      "source": [
        "w.shape"
      ],
      "metadata": {
        "colab": {
          "base_uri": "https://localhost:8080/"
        },
        "id": "CKQWgZg_CrUQ",
        "outputId": "6caeaca1-e54c-482c-b2c0-c84515a0fceb"
      },
      "execution_count": null,
      "outputs": [
        {
          "output_type": "execute_result",
          "data": {
            "text/plain": [
              "(3,)"
            ]
          },
          "metadata": {},
          "execution_count": 30
        }
      ]
    },
    {
      "cell_type": "code",
      "source": [
        "v.shape"
      ],
      "metadata": {
        "colab": {
          "base_uri": "https://localhost:8080/"
        },
        "id": "zb7Tcz3eCtD4",
        "outputId": "39b15277-c83c-46e5-b9d6-b5fa9253c3a3"
      },
      "execution_count": null,
      "outputs": [
        {
          "output_type": "execute_result",
          "data": {
            "text/plain": [
              "(3, 3)"
            ]
          },
          "metadata": {},
          "execution_count": 31
        }
      ]
    },
    {
      "cell_type": "code",
      "source": [
        ""
      ],
      "metadata": {
        "id": "YnFYIsPACuuX"
      },
      "execution_count": null,
      "outputs": []
    },
    {
      "cell_type": "markdown",
      "source": [
        "#Ejercicio: resolver el siguiente sistema de 2 osciladores acoplados.![osc-acop.png](data:image/png;base64,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)\n",
        "\n",
        "Obtener los modos normales y las frecuencias angulares asociadas.\n",
        "\n",
        "**Nota: ** tome $\\theta$ muy pequeño y $M_{1}=M_{2}=m$. Escriba el movimiento de los osciladores en forma matricial.\n",
        "\n",
        "\n",
        "Valores de masas, largo de cuerda y constante del resorte: $m=2.5\\text{ kg. }l=2\\text{ m. }k=20\\text{ N/m}$."
      ],
      "metadata": {
        "id": "nxEqho6zDpOC"
      }
    },
    {
      "cell_type": "markdown",
      "source": [
        "Sumatoria de fuerzas en $x$ para el bloque: $m\\frac{d^{2}x_{1}}{dt^{2}}=-kx_{1}+T\\sin\\theta$.\n",
        "\n",
        "Sumatoria de fuerzas en $x$ para el péndulo: $m\\frac{d^{2}x_{2}}{dt^{2}} = -T\\sin\\theta$\n",
        "\n",
        "Sumatoria de fuerzas en $y$ para el péndulo: $T\\cos\\theta - mg = 0$."
      ],
      "metadata": {
        "id": "GsOHpc5mKtJE"
      }
    },
    {
      "cell_type": "markdown",
      "source": [
        "Entonces, $T = \\frac{mg}{\\cos\\theta}$.\n",
        "\n",
        "Bloque: \n",
        "\n",
        "$m\\frac{d^{2}x_{1}}{dt^{2}}=-kx_{1}+mg\\frac{\\sin\\theta}{\\cos\\theta}$.\n",
        "\n",
        "$m\\frac{d^{2}x_{1}}{dt^{2}}=-kx_{1}+mg\\tan\\theta$\n",
        "\n",
        "\n",
        "Péndulo: \n",
        "\n",
        "$m\\frac{d^{2}x_{2}}{dt^{2}} = -mg\\frac{\\sin\\theta}{\\cos\\theta}$\n",
        "\n",
        "$m\\frac{d^{2}x_{2}}{dt^{2}} = -mg\\tan\\theta$.\n",
        "\n",
        "Para ángulos pequeños, $\\sin\\theta \\approx \\tan\\theta \\approx \\theta$.\n",
        "\n",
        "Por otro lado, $\\sin\\theta = \\frac{x_{2}-x_{1}}{l}$.\n",
        "\n",
        "Entonces,\n",
        "\n",
        "$m\\frac{d^{2}x_{1}}{dt^{2}}=-kx_{1}+mg\\frac{x_{2}-x_{1}}{l}$\n",
        "\n",
        "$m\\frac{d^{2}x_{2}}{dt^{2}} = -mg\\frac{x_{2}-x_{1}}{l}$.\n"
      ],
      "metadata": {
        "id": "07kqr1_qLTkt"
      }
    },
    {
      "cell_type": "markdown",
      "source": [
        "Sean $\\omega_{0}^{2}=\\frac{k}{m}$ y $\\omega_{c}^{2}=\\frac{g}{l}$. Entonces,\n",
        "\n",
        "\\begin{align}\n",
        "&\\frac{d^{2}x_{1}}{dt^{2}} + \\omega_{0}^{2}x_{1}-\\omega_{c}^{2}(x_{2}-x_{1})  = 0\\\\\n",
        "&\\frac{d^{2}x_{2}}{dt^{2}} + \\omega_{c}^{2}(x_{2}-x_{1}) = 0\n",
        "\\end{align}"
      ],
      "metadata": {
        "id": "StaXCabRMrM4"
      }
    },
    {
      "cell_type": "markdown",
      "source": [
        "Coordenadas: \n",
        "\n",
        "$\\vec{X} = \n",
        "\\begin{pmatrix}\n",
        "x_{1} \\\\\n",
        "x_{2}\n",
        "\\end{pmatrix}$\n",
        "\n",
        "$\\frac{d^{2}\\vec{X}}{dt^{2}}+\\mathcal{M}\\vec{x}=0,$ donde\n",
        "\n",
        "$\\mathcal{M} =\n",
        "\\begin{pmatrix}\n",
        "\\omega_{0}^{2}+\\omega_{c}^{2} & -\\omega_{c}^{2} \\\\\n",
        "-\\omega_{c}^{2} & \\omega_{c}^{2}\n",
        "\\end{pmatrix}$\n",
        "\n",
        "Valores numéricos: \n",
        "\n",
        "$\\omega_{0}^{2} = \\frac{k}{m} = \\frac{20}{2.5} = 8\\text{ (rad/s)}^{2}$. $\\omega_{c}^{2} = \\frac{g}{l} = \\frac{9.8}{2} = 4.9\\text{ (rad/s)}^{2}$. \n",
        "\n",
        "$\\mathcal{M} =\n",
        "\\begin{pmatrix}\n",
        "12.9 & -4.9 \\\\\n",
        "-4.9 & 4.9\n",
        "\\end{pmatrix}$"
      ],
      "metadata": {
        "id": "h0H13OQRNcXF"
      }
    },
    {
      "cell_type": "code",
      "source": [
        "20/2.5"
      ],
      "metadata": {
        "colab": {
          "base_uri": "https://localhost:8080/"
        },
        "id": "d5McFYxzHbQf",
        "outputId": "74ae0ce5-4254-4b45-bac5-0897491811ff"
      },
      "execution_count": null,
      "outputs": [
        {
          "output_type": "execute_result",
          "data": {
            "text/plain": [
              "8.0"
            ]
          },
          "metadata": {},
          "execution_count": 26
        }
      ]
    },
    {
      "cell_type": "code",
      "source": [
        "9.8/2"
      ],
      "metadata": {
        "colab": {
          "base_uri": "https://localhost:8080/"
        },
        "id": "ugWU4GlYPTMq",
        "outputId": "f543c6eb-e3bf-4610-f419-70ecd451e10e"
      },
      "execution_count": null,
      "outputs": [
        {
          "output_type": "execute_result",
          "data": {
            "text/plain": [
              "4.9"
            ]
          },
          "metadata": {},
          "execution_count": 9
        }
      ]
    },
    {
      "cell_type": "code",
      "source": [
        "8+4.9"
      ],
      "metadata": {
        "colab": {
          "base_uri": "https://localhost:8080/"
        },
        "id": "_mizHKKrPgmY",
        "outputId": "4cf65f22-5bdd-4589-9e3c-a54ded9972d1"
      },
      "execution_count": null,
      "outputs": [
        {
          "output_type": "execute_result",
          "data": {
            "text/plain": [
              "12.9"
            ]
          },
          "metadata": {},
          "execution_count": 27
        }
      ]
    },
    {
      "cell_type": "markdown",
      "source": [
        "Valores propios y vectores propios (frecuencias angulares y modos normales de oscilación):"
      ],
      "metadata": {
        "id": "JTWeHqWvQAdx"
      }
    },
    {
      "cell_type": "code",
      "source": [
        "M_osc = np.array([[12.9, -4.9], \n",
        "                  [-4.9, 4.9]])\n",
        "\n",
        "from numpy.linalg import det\n",
        "\n",
        "det(M_osc)"
      ],
      "metadata": {
        "colab": {
          "base_uri": "https://localhost:8080/"
        },
        "id": "neKMaP1EPvCU",
        "outputId": "1b622676-6d09-46da-a070-858fb0b010ae"
      },
      "execution_count": null,
      "outputs": [
        {
          "output_type": "execute_result",
          "data": {
            "text/plain": [
              "39.20000000000001"
            ]
          },
          "metadata": {},
          "execution_count": 32
        }
      ]
    },
    {
      "cell_type": "code",
      "source": [
        "frec2, modn = eig(M_osc)"
      ],
      "metadata": {
        "id": "eRAcEUkzQi2q"
      },
      "execution_count": null,
      "outputs": []
    },
    {
      "cell_type": "code",
      "source": [
        "frec2"
      ],
      "metadata": {
        "colab": {
          "base_uri": "https://localhost:8080/"
        },
        "id": "QNCS_8hhRfis",
        "outputId": "b7a29b1f-d9df-419b-bb46-475791f60add"
      },
      "execution_count": null,
      "outputs": [
        {
          "output_type": "execute_result",
          "data": {
            "text/plain": [
              "array([15.22534584,  2.57465416])"
            ]
          },
          "metadata": {},
          "execution_count": 34
        }
      ]
    },
    {
      "cell_type": "code",
      "source": [
        "modn"
      ],
      "metadata": {
        "colab": {
          "base_uri": "https://localhost:8080/"
        },
        "id": "VBvWJDzjRgZI",
        "outputId": "8c5e55ea-8d44-4f72-db5c-7fd422330c1f"
      },
      "execution_count": null,
      "outputs": [
        {
          "output_type": "execute_result",
          "data": {
            "text/plain": [
              "array([[ 0.90343137,  0.42873273],\n",
              "       [-0.42873273,  0.90343137]])"
            ]
          },
          "metadata": {},
          "execution_count": 35
        }
      ]
    },
    {
      "cell_type": "markdown",
      "source": [
        "modn: matriz traspuesta de vectores propios/modos normales."
      ],
      "metadata": {
        "id": "sJZ44tEpWnPZ"
      }
    },
    {
      "cell_type": "code",
      "source": [
        "frec = np.sqrt(frec2)\n",
        "frec"
      ],
      "metadata": {
        "colab": {
          "base_uri": "https://localhost:8080/"
        },
        "id": "JYNWRI1fRkki",
        "outputId": "6b499ec4-6425-4ac0-ff74-f141071681ae"
      },
      "execution_count": null,
      "outputs": [
        {
          "output_type": "execute_result",
          "data": {
            "text/plain": [
              "array([3.90196692, 1.60457289])"
            ]
          },
          "metadata": {},
          "execution_count": 36
        }
      ]
    },
    {
      "cell_type": "code",
      "source": [
        "modn.T"
      ],
      "metadata": {
        "colab": {
          "base_uri": "https://localhost:8080/"
        },
        "id": "b3lxp_dcTzdi",
        "outputId": "78ad8ede-5e30-4a5d-c5b8-c86dba7cc10c"
      },
      "execution_count": null,
      "outputs": [
        {
          "output_type": "execute_result",
          "data": {
            "text/plain": [
              "array([[ 0.90343137, -0.42873273],\n",
              "       [ 0.42873273,  0.90343137]])"
            ]
          },
          "metadata": {},
          "execution_count": 37
        }
      ]
    },
    {
      "cell_type": "code",
      "source": [
        "np.dot(modn.T,modn)"
      ],
      "metadata": {
        "colab": {
          "base_uri": "https://localhost:8080/"
        },
        "id": "cvcyxZI8Vuii",
        "outputId": "128320a5-608d-457b-9cd3-bce39c8d37b7"
      },
      "execution_count": null,
      "outputs": [
        {
          "output_type": "execute_result",
          "data": {
            "text/plain": [
              "array([[1.00000000e+00, 7.69103643e-18],\n",
              "       [7.69103643e-18, 1.00000000e+00]])"
            ]
          },
          "metadata": {},
          "execution_count": 38
        }
      ]
    },
    {
      "cell_type": "code",
      "source": [
        "from numpy.linalg import inv\n",
        "inv(modn)"
      ],
      "metadata": {
        "colab": {
          "base_uri": "https://localhost:8080/"
        },
        "id": "XjxqS7ovVzeT",
        "outputId": "26d5155b-227f-4e90-d294-cd04f1bc40c9"
      },
      "execution_count": null,
      "outputs": [
        {
          "output_type": "execute_result",
          "data": {
            "text/plain": [
              "array([[ 0.90343137, -0.42873273],\n",
              "       [ 0.42873273,  0.90343137]])"
            ]
          },
          "metadata": {},
          "execution_count": 39
        }
      ]
    },
    {
      "cell_type": "markdown",
      "source": [
        "Diagonalización de la matrix $\\mathcal{M}^{'}$: $\\mathcal{M} = \\mathcal{A}\\mathcal{M}\\mathcal{A^{-1}}$, con $\\mathcal{A}$ matriz de vectores propios."
      ],
      "metadata": {
        "id": "8fhmnohjV_s1"
      }
    },
    {
      "cell_type": "markdown",
      "source": [
        "$A^{-1}=\\text{modn}$. $A=\\text{modn}^{T}=\\text{modn}^{-1}$."
      ],
      "metadata": {
        "id": "c0DBK62qY66n"
      }
    },
    {
      "cell_type": "code",
      "source": [
        "np.dot(inv(modn), np.dot(M_osc, modn))"
      ],
      "metadata": {
        "colab": {
          "base_uri": "https://localhost:8080/"
        },
        "id": "hPSp2nplV8My",
        "outputId": "ffbc18cc-729e-4748-f11e-3c27ab492b0c"
      },
      "execution_count": null,
      "outputs": [
        {
          "output_type": "execute_result",
          "data": {
            "text/plain": [
              "array([[ 1.52253458e+01, -2.66776399e-16],\n",
              "       [ 1.22528148e-16,  2.57465416e+00]])"
            ]
          },
          "metadata": {},
          "execution_count": 40
        }
      ]
    },
    {
      "cell_type": "markdown",
      "source": [
        "Orden de los vectores y valores propios:\n",
        "\n",
        "(Tomado de https://web.physics.utah.edu/~detar/lessons/python/numpy_eigen/node2.html)"
      ],
      "metadata": {
        "id": "L0HlxUjXZ8mp"
      }
    },
    {
      "cell_type": "code",
      "source": [
        "frec2o, modno = eig(M_osc)\n",
        "ord = np.argsort(frec2o)\n",
        "frec2o = frec2o[ord]\n",
        "modno = modno[:,ord]"
      ],
      "metadata": {
        "id": "0q5AX6ouZhNv"
      },
      "execution_count": null,
      "outputs": []
    },
    {
      "cell_type": "code",
      "source": [
        "frec2o"
      ],
      "metadata": {
        "colab": {
          "base_uri": "https://localhost:8080/"
        },
        "id": "QbjmEq0iaXL2",
        "outputId": "d53d2ea6-7d4b-46a7-a731-b86acbb0e90b"
      },
      "execution_count": null,
      "outputs": [
        {
          "output_type": "execute_result",
          "data": {
            "text/plain": [
              "array([ 2.57465416, 15.22534584])"
            ]
          },
          "metadata": {},
          "execution_count": 42
        }
      ]
    },
    {
      "cell_type": "code",
      "source": [
        "modno"
      ],
      "metadata": {
        "colab": {
          "base_uri": "https://localhost:8080/"
        },
        "id": "aNUhGxTCaYdb",
        "outputId": "f2803b0a-12d8-44fe-b427-ebb1c411b4ea"
      },
      "execution_count": null,
      "outputs": [
        {
          "output_type": "execute_result",
          "data": {
            "text/plain": [
              "array([[ 0.42873273,  0.90343137],\n",
              "       [ 0.90343137, -0.42873273]])"
            ]
          },
          "metadata": {},
          "execution_count": 43
        }
      ]
    },
    {
      "cell_type": "code",
      "source": [
        "modno.T"
      ],
      "metadata": {
        "id": "Y0QQzfGlaZvQ",
        "colab": {
          "base_uri": "https://localhost:8080/"
        },
        "outputId": "347b48f1-518c-4d09-f202-9eb9646990ec"
      },
      "execution_count": null,
      "outputs": [
        {
          "output_type": "execute_result",
          "data": {
            "text/plain": [
              "array([[ 0.42873273,  0.90343137],\n",
              "       [ 0.90343137, -0.42873273]])"
            ]
          },
          "metadata": {},
          "execution_count": 44
        }
      ]
    },
    {
      "cell_type": "code",
      "source": [
        ""
      ],
      "metadata": {
        "id": "4vxlEaaG8-W8"
      },
      "execution_count": null,
      "outputs": []
    }
  ]
}